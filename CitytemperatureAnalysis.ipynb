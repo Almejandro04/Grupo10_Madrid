{
 "cells": [
  {
   "cell_type": "code",
   "execution_count": 2,
   "id": "82d4fe37-307d-491a-a03d-f62af1a42949",
   "metadata": {},
   "outputs": [
    {
     "data": {
      "text/plain": [
       "['main.py',\n",
       " 'CitytemperatureAnalysis.ipynb',\n",
       " 'get-weather.sh',\n",
       " '.#index.org',\n",
       " '.ipynb_checkpoints',\n",
       " 'index.org~',\n",
       " 'output.log',\n",
       " 'clima-madrid-hoy.csv',\n",
       " 'main.py~',\n",
       " 'weather-site']"
      ]
     },
     "execution_count": 2,
     "metadata": {},
     "output_type": "execute_result"
    }
   ],
   "source": [
    "import os\n",
    "import pandas as pd\n",
    "os.listdir(os.getcwd())"
   ]
  },
  {
   "cell_type": "code",
   "execution_count": 3,
   "id": "96c20903-b464-4ce8-8778-2479e49a2917",
   "metadata": {},
   "outputs": [
    {
     "data": {
      "text/plain": [
       "61"
      ]
     },
     "execution_count": 3,
     "metadata": {},
     "output_type": "execute_result"
    }
   ],
   "source": [
    "import csv\n",
    "csv_file = 'clima-madrid-hoy.csv'\n",
    "filtered_rows = []\n",
    "with open(csv_file, 'r') as f:\n",
    "    reader = csv.reader(f)\n",
    "    for row in reader:\n",
    "        if len(row)==28:\n",
    "            filtered_rows.append(row)\n",
    "len(filtered_rows)"
   ]
  },
  {
   "cell_type": "code",
   "execution_count": 4,
   "id": "b0dc7410-0882-418e-b845-60b7175689c9",
   "metadata": {},
   "outputs": [
    {
     "name": "stdout",
     "output_type": "stream",
     "text": [
      "DataFrame creado exitosamente.\n",
      "Dimensiones del DataFrame: (60, 28)\n"
     ]
    }
   ],
   "source": [
    "import pandas as pd\n",
    "\n",
    "# Leer el archivo CSV en un DataFrame\n",
    "try:\n",
    "    df = pd.read_csv('clima-madrid-hoy.csv')\n",
    "    print(\"DataFrame creado exitosamente.\")\n",
    "except Exception as e:\n",
    "    print(f\"Ocurrió un error al leer el archivo CSV: {e}\")\n",
    "\n",
    "# Mostrar las dimensiones del DataFrame\n",
    "print(\"Dimensiones del DataFrame:\", df.shape)\n",
    "\n",
    "\n"
   ]
  },
  {
   "cell_type": "code",
   "execution_count": 5,
   "id": "8fb52de9-0825-4214-ade5-1cc6f912e87b",
   "metadata": {},
   "outputs": [
    {
     "data": {
      "text/html": [
       "<div>\n",
       "<style scoped>\n",
       "    .dataframe tbody tr th:only-of-type {\n",
       "        vertical-align: middle;\n",
       "    }\n",
       "\n",
       "    .dataframe tbody tr th {\n",
       "        vertical-align: top;\n",
       "    }\n",
       "\n",
       "    .dataframe thead th {\n",
       "        text-align: right;\n",
       "    }\n",
       "</style>\n",
       "<table border=\"1\" class=\"dataframe\">\n",
       "  <thead>\n",
       "    <tr style=\"text-align: right;\">\n",
       "      <th></th>\n",
       "      <th>Fecha</th>\n",
       "      <th>Temperatura</th>\n",
       "      <th>Humedad</th>\n",
       "      <th>Presión</th>\n",
       "      <th>Velocidad del viento</th>\n",
       "      <th>dt</th>\n",
       "      <th>coord_lon</th>\n",
       "      <th>coord_lat</th>\n",
       "      <th>weather_0_id</th>\n",
       "      <th>weather_0_main</th>\n",
       "      <th>...</th>\n",
       "      <th>clouds_all</th>\n",
       "      <th>sys_type</th>\n",
       "      <th>sys_id</th>\n",
       "      <th>sys_country</th>\n",
       "      <th>sys_sunrise</th>\n",
       "      <th>sys_sunset</th>\n",
       "      <th>timezone</th>\n",
       "      <th>id</th>\n",
       "      <th>name</th>\n",
       "      <th>cod</th>\n",
       "    </tr>\n",
       "  </thead>\n",
       "  <tbody>\n",
       "    <tr>\n",
       "      <th>54</th>\n",
       "      <td>2024-08-13 10:00:03</td>\n",
       "      <td>30.35</td>\n",
       "      <td>32</td>\n",
       "      <td>1008</td>\n",
       "      <td>7.20</td>\n",
       "      <td>1723561043</td>\n",
       "      <td>-3.7034</td>\n",
       "      <td>40.4163</td>\n",
       "      <td>800</td>\n",
       "      <td>Clear</td>\n",
       "      <td>...</td>\n",
       "      <td>0</td>\n",
       "      <td>2</td>\n",
       "      <td>2007545</td>\n",
       "      <td>ES</td>\n",
       "      <td>1723526645</td>\n",
       "      <td>1723576522</td>\n",
       "      <td>7200</td>\n",
       "      <td>3117735</td>\n",
       "      <td>Madrid</td>\n",
       "      <td>200</td>\n",
       "    </tr>\n",
       "    <tr>\n",
       "      <th>10</th>\n",
       "      <td>2024-08-12 20:55:02</td>\n",
       "      <td>25.41</td>\n",
       "      <td>42</td>\n",
       "      <td>1010</td>\n",
       "      <td>3.13</td>\n",
       "      <td>1723514033</td>\n",
       "      <td>-3.7038</td>\n",
       "      <td>40.4168</td>\n",
       "      <td>800</td>\n",
       "      <td>Clear</td>\n",
       "      <td>...</td>\n",
       "      <td>0</td>\n",
       "      <td>2</td>\n",
       "      <td>2007545</td>\n",
       "      <td>ES</td>\n",
       "      <td>1723526645</td>\n",
       "      <td>1723576522</td>\n",
       "      <td>7200</td>\n",
       "      <td>3117735</td>\n",
       "      <td>Madrid</td>\n",
       "      <td>200</td>\n",
       "    </tr>\n",
       "    <tr>\n",
       "      <th>52</th>\n",
       "      <td>2024-08-13 09:58:03</td>\n",
       "      <td>30.35</td>\n",
       "      <td>32</td>\n",
       "      <td>1008</td>\n",
       "      <td>7.20</td>\n",
       "      <td>1723561043</td>\n",
       "      <td>-3.7034</td>\n",
       "      <td>40.4163</td>\n",
       "      <td>800</td>\n",
       "      <td>Clear</td>\n",
       "      <td>...</td>\n",
       "      <td>0</td>\n",
       "      <td>2</td>\n",
       "      <td>2007545</td>\n",
       "      <td>ES</td>\n",
       "      <td>1723526645</td>\n",
       "      <td>1723576522</td>\n",
       "      <td>7200</td>\n",
       "      <td>3117735</td>\n",
       "      <td>Madrid</td>\n",
       "      <td>200</td>\n",
       "    </tr>\n",
       "    <tr>\n",
       "      <th>29</th>\n",
       "      <td>2024-08-12 21:14:02</td>\n",
       "      <td>25.22</td>\n",
       "      <td>43</td>\n",
       "      <td>1010</td>\n",
       "      <td>3.09</td>\n",
       "      <td>1723515003</td>\n",
       "      <td>-3.7038</td>\n",
       "      <td>40.4168</td>\n",
       "      <td>800</td>\n",
       "      <td>Clear</td>\n",
       "      <td>...</td>\n",
       "      <td>0</td>\n",
       "      <td>2</td>\n",
       "      <td>2007545</td>\n",
       "      <td>ES</td>\n",
       "      <td>1723526645</td>\n",
       "      <td>1723576522</td>\n",
       "      <td>7200</td>\n",
       "      <td>3117735</td>\n",
       "      <td>Madrid</td>\n",
       "      <td>200</td>\n",
       "    </tr>\n",
       "    <tr>\n",
       "      <th>48</th>\n",
       "      <td>2024-08-13 09:53:02</td>\n",
       "      <td>30.44</td>\n",
       "      <td>31</td>\n",
       "      <td>1008</td>\n",
       "      <td>7.20</td>\n",
       "      <td>1723560591</td>\n",
       "      <td>-3.7026</td>\n",
       "      <td>40.4165</td>\n",
       "      <td>800</td>\n",
       "      <td>Clear</td>\n",
       "      <td>...</td>\n",
       "      <td>0</td>\n",
       "      <td>2</td>\n",
       "      <td>2007545</td>\n",
       "      <td>ES</td>\n",
       "      <td>1723526645</td>\n",
       "      <td>1723576521</td>\n",
       "      <td>7200</td>\n",
       "      <td>3117735</td>\n",
       "      <td>Madrid</td>\n",
       "      <td>200</td>\n",
       "    </tr>\n",
       "  </tbody>\n",
       "</table>\n",
       "<p>5 rows × 28 columns</p>\n",
       "</div>"
      ],
      "text/plain": [
       "                  Fecha  Temperatura  Humedad  Presión  Velocidad del viento  \\\n",
       "54  2024-08-13 10:00:03        30.35       32     1008                  7.20   \n",
       "10  2024-08-12 20:55:02        25.41       42     1010                  3.13   \n",
       "52  2024-08-13 09:58:03        30.35       32     1008                  7.20   \n",
       "29  2024-08-12 21:14:02        25.22       43     1010                  3.09   \n",
       "48  2024-08-13 09:53:02        30.44       31     1008                  7.20   \n",
       "\n",
       "            dt  coord_lon  coord_lat  weather_0_id weather_0_main  ...  \\\n",
       "54  1723561043    -3.7034    40.4163           800          Clear  ...   \n",
       "10  1723514033    -3.7038    40.4168           800          Clear  ...   \n",
       "52  1723561043    -3.7034    40.4163           800          Clear  ...   \n",
       "29  1723515003    -3.7038    40.4168           800          Clear  ...   \n",
       "48  1723560591    -3.7026    40.4165           800          Clear  ...   \n",
       "\n",
       "   clouds_all sys_type   sys_id  sys_country  sys_sunrise  sys_sunset  \\\n",
       "54          0        2  2007545           ES   1723526645  1723576522   \n",
       "10          0        2  2007545           ES   1723526645  1723576522   \n",
       "52          0        2  2007545           ES   1723526645  1723576522   \n",
       "29          0        2  2007545           ES   1723526645  1723576522   \n",
       "48          0        2  2007545           ES   1723526645  1723576521   \n",
       "\n",
       "    timezone       id    name  cod  \n",
       "54      7200  3117735  Madrid  200  \n",
       "10      7200  3117735  Madrid  200  \n",
       "52      7200  3117735  Madrid  200  \n",
       "29      7200  3117735  Madrid  200  \n",
       "48      7200  3117735  Madrid  200  \n",
       "\n",
       "[5 rows x 28 columns]"
      ]
     },
     "execution_count": 5,
     "metadata": {},
     "output_type": "execute_result"
    }
   ],
   "source": [
    "df.sample(5)"
   ]
  },
  {
   "cell_type": "code",
   "execution_count": 6,
   "id": "09ff3366-b7e8-4826-ab0b-8ae71e91395e",
   "metadata": {},
   "outputs": [
    {
     "name": "stdout",
     "output_type": "stream",
     "text": [
      "<class 'pandas.core.frame.DataFrame'>\n",
      "RangeIndex: 60 entries, 0 to 59\n",
      "Data columns (total 28 columns):\n",
      " #   Column                 Non-Null Count  Dtype  \n",
      "---  ------                 --------------  -----  \n",
      " 0   Fecha                  60 non-null     object \n",
      " 1   Temperatura            60 non-null     float64\n",
      " 2   Humedad                60 non-null     int64  \n",
      " 3   Presión                60 non-null     int64  \n",
      " 4   Velocidad del viento   60 non-null     float64\n",
      " 5   dt                     60 non-null     int64  \n",
      " 6   coord_lon              60 non-null     float64\n",
      " 7   coord_lat              60 non-null     float64\n",
      " 8   weather_0_id           60 non-null     int64  \n",
      " 9   weather_0_main         60 non-null     object \n",
      " 10  weather_0_description  60 non-null     object \n",
      " 11  weather_0_icon         60 non-null     object \n",
      " 12  base                   60 non-null     object \n",
      " 13  main_temp              60 non-null     float64\n",
      " 14  main_feels_like        60 non-null     float64\n",
      " 15  visibility             60 non-null     int64  \n",
      " 16  wind_speed             60 non-null     float64\n",
      " 17  wind_deg               60 non-null     int64  \n",
      " 18  clouds_all             60 non-null     int64  \n",
      " 19  sys_type               60 non-null     int64  \n",
      " 20  sys_id                 60 non-null     int64  \n",
      " 21  sys_country            60 non-null     object \n",
      " 22  sys_sunrise            60 non-null     int64  \n",
      " 23  sys_sunset             60 non-null     int64  \n",
      " 24  timezone               60 non-null     int64  \n",
      " 25  id                     60 non-null     int64  \n",
      " 26  name                   60 non-null     object \n",
      " 27  cod                    60 non-null     int64  \n",
      "dtypes: float64(7), int64(14), object(7)\n",
      "memory usage: 13.3+ KB\n"
     ]
    }
   ],
   "source": [
    "df.info()"
   ]
  },
  {
   "cell_type": "code",
   "execution_count": 7,
   "id": "3d3cd3c5-2314-45d2-b429-233606da4fc9",
   "metadata": {},
   "outputs": [],
   "source": [
    "df.dt = df.dt.astype(int)\n",
    "df.sys_sunrise = df.sys_sunrise.astype(int)\n",
    "df.sys_sunset = df.sys_sunset.astype(int)\n",
    "for column in df.columns:\n",
    "    try:\n",
    "        df[column] = pd.to_numeric(df[column])\n",
    "    except ValueError:\n",
    "        next"
   ]
  },
  {
   "cell_type": "code",
   "execution_count": 8,
   "id": "03296a43-fb17-4024-a4dd-62782cae227a",
   "metadata": {},
   "outputs": [
    {
     "name": "stdout",
     "output_type": "stream",
     "text": [
      "<class 'pandas.core.frame.DataFrame'>\n",
      "RangeIndex: 60 entries, 0 to 59\n",
      "Data columns (total 28 columns):\n",
      " #   Column                 Non-Null Count  Dtype  \n",
      "---  ------                 --------------  -----  \n",
      " 0   Fecha                  60 non-null     object \n",
      " 1   Temperatura            60 non-null     float64\n",
      " 2   Humedad                60 non-null     int64  \n",
      " 3   Presión                60 non-null     int64  \n",
      " 4   Velocidad del viento   60 non-null     float64\n",
      " 5   dt                     60 non-null     int64  \n",
      " 6   coord_lon              60 non-null     float64\n",
      " 7   coord_lat              60 non-null     float64\n",
      " 8   weather_0_id           60 non-null     int64  \n",
      " 9   weather_0_main         60 non-null     object \n",
      " 10  weather_0_description  60 non-null     object \n",
      " 11  weather_0_icon         60 non-null     object \n",
      " 12  base                   60 non-null     object \n",
      " 13  main_temp              60 non-null     float64\n",
      " 14  main_feels_like        60 non-null     float64\n",
      " 15  visibility             60 non-null     int64  \n",
      " 16  wind_speed             60 non-null     float64\n",
      " 17  wind_deg               60 non-null     int64  \n",
      " 18  clouds_all             60 non-null     int64  \n",
      " 19  sys_type               60 non-null     int64  \n",
      " 20  sys_id                 60 non-null     int64  \n",
      " 21  sys_country            60 non-null     object \n",
      " 22  sys_sunrise            60 non-null     int64  \n",
      " 23  sys_sunset             60 non-null     int64  \n",
      " 24  timezone               60 non-null     int64  \n",
      " 25  id                     60 non-null     int64  \n",
      " 26  name                   60 non-null     object \n",
      " 27  cod                    60 non-null     int64  \n",
      "dtypes: float64(7), int64(14), object(7)\n",
      "memory usage: 13.3+ KB\n"
     ]
    }
   ],
   "source": [
    "df.info()"
   ]
  },
  {
   "cell_type": "code",
   "execution_count": 9,
   "id": "0d38be8b-d8c5-4502-9d45-567757a8b2c3",
   "metadata": {},
   "outputs": [
    {
     "data": {
      "text/html": [
       "<div>\n",
       "<style scoped>\n",
       "    .dataframe tbody tr th:only-of-type {\n",
       "        vertical-align: middle;\n",
       "    }\n",
       "\n",
       "    .dataframe tbody tr th {\n",
       "        vertical-align: top;\n",
       "    }\n",
       "\n",
       "    .dataframe thead th {\n",
       "        text-align: right;\n",
       "    }\n",
       "</style>\n",
       "<table border=\"1\" class=\"dataframe\">\n",
       "  <thead>\n",
       "    <tr style=\"text-align: right;\">\n",
       "      <th></th>\n",
       "      <th>Fecha</th>\n",
       "      <th>Temperatura</th>\n",
       "      <th>Humedad</th>\n",
       "      <th>Presión</th>\n",
       "      <th>Velocidad del viento</th>\n",
       "      <th>dt</th>\n",
       "      <th>coord_lon</th>\n",
       "      <th>coord_lat</th>\n",
       "      <th>weather_0_id</th>\n",
       "      <th>weather_0_main</th>\n",
       "      <th>...</th>\n",
       "      <th>clouds_all</th>\n",
       "      <th>sys_type</th>\n",
       "      <th>sys_id</th>\n",
       "      <th>sys_country</th>\n",
       "      <th>sys_sunrise</th>\n",
       "      <th>sys_sunset</th>\n",
       "      <th>timezone</th>\n",
       "      <th>id</th>\n",
       "      <th>name</th>\n",
       "      <th>cod</th>\n",
       "    </tr>\n",
       "  </thead>\n",
       "  <tbody>\n",
       "    <tr>\n",
       "      <th>10</th>\n",
       "      <td>2024-08-12 20:55:02</td>\n",
       "      <td>25.41</td>\n",
       "      <td>42</td>\n",
       "      <td>1010</td>\n",
       "      <td>3.13</td>\n",
       "      <td>2024-08-12 20:53:53</td>\n",
       "      <td>-3.7038</td>\n",
       "      <td>40.4168</td>\n",
       "      <td>800</td>\n",
       "      <td>Clear</td>\n",
       "      <td>...</td>\n",
       "      <td>0</td>\n",
       "      <td>2</td>\n",
       "      <td>2007545</td>\n",
       "      <td>ES</td>\n",
       "      <td>2024-08-13 00:24:05</td>\n",
       "      <td>2024-08-13 14:15:22</td>\n",
       "      <td>7200</td>\n",
       "      <td>3117735</td>\n",
       "      <td>Madrid</td>\n",
       "      <td>200</td>\n",
       "    </tr>\n",
       "    <tr>\n",
       "      <th>57</th>\n",
       "      <td>2024-08-13 10:03:01</td>\n",
       "      <td>30.35</td>\n",
       "      <td>32</td>\n",
       "      <td>1008</td>\n",
       "      <td>7.20</td>\n",
       "      <td>2024-08-13 09:57:23</td>\n",
       "      <td>-3.7034</td>\n",
       "      <td>40.4163</td>\n",
       "      <td>800</td>\n",
       "      <td>Clear</td>\n",
       "      <td>...</td>\n",
       "      <td>0</td>\n",
       "      <td>2</td>\n",
       "      <td>2007545</td>\n",
       "      <td>ES</td>\n",
       "      <td>2024-08-13 00:24:05</td>\n",
       "      <td>2024-08-13 14:15:22</td>\n",
       "      <td>7200</td>\n",
       "      <td>3117735</td>\n",
       "      <td>Madrid</td>\n",
       "      <td>200</td>\n",
       "    </tr>\n",
       "    <tr>\n",
       "      <th>17</th>\n",
       "      <td>2024-08-12 21:02:02</td>\n",
       "      <td>25.41</td>\n",
       "      <td>42</td>\n",
       "      <td>1010</td>\n",
       "      <td>3.13</td>\n",
       "      <td>2024-08-12 20:53:53</td>\n",
       "      <td>-3.7038</td>\n",
       "      <td>40.4168</td>\n",
       "      <td>800</td>\n",
       "      <td>Clear</td>\n",
       "      <td>...</td>\n",
       "      <td>0</td>\n",
       "      <td>2</td>\n",
       "      <td>2007545</td>\n",
       "      <td>ES</td>\n",
       "      <td>2024-08-13 00:24:05</td>\n",
       "      <td>2024-08-13 14:15:22</td>\n",
       "      <td>7200</td>\n",
       "      <td>3117735</td>\n",
       "      <td>Madrid</td>\n",
       "      <td>200</td>\n",
       "    </tr>\n",
       "    <tr>\n",
       "      <th>52</th>\n",
       "      <td>2024-08-13 09:58:03</td>\n",
       "      <td>30.35</td>\n",
       "      <td>32</td>\n",
       "      <td>1008</td>\n",
       "      <td>7.20</td>\n",
       "      <td>2024-08-13 09:57:23</td>\n",
       "      <td>-3.7034</td>\n",
       "      <td>40.4163</td>\n",
       "      <td>800</td>\n",
       "      <td>Clear</td>\n",
       "      <td>...</td>\n",
       "      <td>0</td>\n",
       "      <td>2</td>\n",
       "      <td>2007545</td>\n",
       "      <td>ES</td>\n",
       "      <td>2024-08-13 00:24:05</td>\n",
       "      <td>2024-08-13 14:15:22</td>\n",
       "      <td>7200</td>\n",
       "      <td>3117735</td>\n",
       "      <td>Madrid</td>\n",
       "      <td>200</td>\n",
       "    </tr>\n",
       "    <tr>\n",
       "      <th>33</th>\n",
       "      <td>2024-08-12 21:18:01</td>\n",
       "      <td>25.22</td>\n",
       "      <td>43</td>\n",
       "      <td>1010</td>\n",
       "      <td>3.09</td>\n",
       "      <td>2024-08-12 21:10:03</td>\n",
       "      <td>-3.7038</td>\n",
       "      <td>40.4168</td>\n",
       "      <td>800</td>\n",
       "      <td>Clear</td>\n",
       "      <td>...</td>\n",
       "      <td>0</td>\n",
       "      <td>2</td>\n",
       "      <td>2007545</td>\n",
       "      <td>ES</td>\n",
       "      <td>2024-08-13 00:24:05</td>\n",
       "      <td>2024-08-13 14:15:22</td>\n",
       "      <td>7200</td>\n",
       "      <td>3117735</td>\n",
       "      <td>Madrid</td>\n",
       "      <td>200</td>\n",
       "    </tr>\n",
       "  </tbody>\n",
       "</table>\n",
       "<p>5 rows × 28 columns</p>\n",
       "</div>"
      ],
      "text/plain": [
       "                  Fecha  Temperatura  Humedad  Presión  Velocidad del viento  \\\n",
       "10  2024-08-12 20:55:02        25.41       42     1010                  3.13   \n",
       "57  2024-08-13 10:03:01        30.35       32     1008                  7.20   \n",
       "17  2024-08-12 21:02:02        25.41       42     1010                  3.13   \n",
       "52  2024-08-13 09:58:03        30.35       32     1008                  7.20   \n",
       "33  2024-08-12 21:18:01        25.22       43     1010                  3.09   \n",
       "\n",
       "                    dt  coord_lon  coord_lat  weather_0_id weather_0_main  \\\n",
       "10 2024-08-12 20:53:53    -3.7038    40.4168           800          Clear   \n",
       "57 2024-08-13 09:57:23    -3.7034    40.4163           800          Clear   \n",
       "17 2024-08-12 20:53:53    -3.7038    40.4168           800          Clear   \n",
       "52 2024-08-13 09:57:23    -3.7034    40.4163           800          Clear   \n",
       "33 2024-08-12 21:10:03    -3.7038    40.4168           800          Clear   \n",
       "\n",
       "    ... clouds_all sys_type   sys_id  sys_country         sys_sunrise  \\\n",
       "10  ...          0        2  2007545           ES 2024-08-13 00:24:05   \n",
       "57  ...          0        2  2007545           ES 2024-08-13 00:24:05   \n",
       "17  ...          0        2  2007545           ES 2024-08-13 00:24:05   \n",
       "52  ...          0        2  2007545           ES 2024-08-13 00:24:05   \n",
       "33  ...          0        2  2007545           ES 2024-08-13 00:24:05   \n",
       "\n",
       "            sys_sunset  timezone       id    name  cod  \n",
       "10 2024-08-13 14:15:22      7200  3117735  Madrid  200  \n",
       "57 2024-08-13 14:15:22      7200  3117735  Madrid  200  \n",
       "17 2024-08-13 14:15:22      7200  3117735  Madrid  200  \n",
       "52 2024-08-13 14:15:22      7200  3117735  Madrid  200  \n",
       "33 2024-08-13 14:15:22      7200  3117735  Madrid  200  \n",
       "\n",
       "[5 rows x 28 columns]"
      ]
     },
     "execution_count": 9,
     "metadata": {},
     "output_type": "execute_result"
    }
   ],
   "source": [
    "from datetime import datetime\n",
    "df_etl = df.copy()\n",
    "df_etl.dt = df.dt.apply(lambda x: datetime.fromtimestamp(x))\n",
    "df_etl.sys_sunrise = df.sys_sunrise.apply(lambda x: datetime.fromtimestamp(x))\n",
    "df_etl.sys_sunset = df.sys_sunset.apply(lambda x: datetime.fromtimestamp(x))\n",
    "df_etl.sample(5)"
   ]
  },
  {
   "cell_type": "markdown",
   "id": "f07cfe27-e5ad-4829-8e30-aad91cfd2f35",
   "metadata": {},
   "source": [
    "Generalmente es de interés realizar un breve análisis estadístico de las variables del dataset"
   ]
  },
  {
   "cell_type": "code",
   "execution_count": 10,
   "id": "aaf0ff16-6c3d-4ed3-a3d1-df6d57222603",
   "metadata": {},
   "outputs": [
    {
     "data": {
      "text/html": [
       "<div>\n",
       "<style scoped>\n",
       "    .dataframe tbody tr th:only-of-type {\n",
       "        vertical-align: middle;\n",
       "    }\n",
       "\n",
       "    .dataframe tbody tr th {\n",
       "        vertical-align: top;\n",
       "    }\n",
       "\n",
       "    .dataframe thead th {\n",
       "        text-align: right;\n",
       "    }\n",
       "</style>\n",
       "<table border=\"1\" class=\"dataframe\">\n",
       "  <thead>\n",
       "    <tr style=\"text-align: right;\">\n",
       "      <th></th>\n",
       "      <th>count</th>\n",
       "      <th>mean</th>\n",
       "      <th>min</th>\n",
       "      <th>25%</th>\n",
       "      <th>50%</th>\n",
       "      <th>75%</th>\n",
       "      <th>max</th>\n",
       "      <th>std</th>\n",
       "    </tr>\n",
       "  </thead>\n",
       "  <tbody>\n",
       "    <tr>\n",
       "      <th>Temperatura</th>\n",
       "      <td>60.0</td>\n",
       "      <td>26.2285</td>\n",
       "      <td>23.53</td>\n",
       "      <td>25.22</td>\n",
       "      <td>25.41</td>\n",
       "      <td>25.45</td>\n",
       "      <td>30.44</td>\n",
       "      <td>2.232101</td>\n",
       "    </tr>\n",
       "    <tr>\n",
       "      <th>Humedad</th>\n",
       "      <td>60.0</td>\n",
       "      <td>40.683333</td>\n",
       "      <td>31.0</td>\n",
       "      <td>41.0</td>\n",
       "      <td>42.0</td>\n",
       "      <td>43.0</td>\n",
       "      <td>50.0</td>\n",
       "      <td>5.123861</td>\n",
       "    </tr>\n",
       "    <tr>\n",
       "      <th>Presión</th>\n",
       "      <td>60.0</td>\n",
       "      <td>1009.566667</td>\n",
       "      <td>1008.0</td>\n",
       "      <td>1010.0</td>\n",
       "      <td>1010.0</td>\n",
       "      <td>1010.0</td>\n",
       "      <td>1010.0</td>\n",
       "      <td>0.8309</td>\n",
       "    </tr>\n",
       "    <tr>\n",
       "      <th>Velocidad del viento</th>\n",
       "      <td>60.0</td>\n",
       "      <td>4.048333</td>\n",
       "      <td>2.57</td>\n",
       "      <td>3.09</td>\n",
       "      <td>3.13</td>\n",
       "      <td>4.12</td>\n",
       "      <td>7.2</td>\n",
       "      <td>1.710616</td>\n",
       "    </tr>\n",
       "    <tr>\n",
       "      <th>dt</th>\n",
       "      <td>60</td>\n",
       "      <td>2024-08-12 23:57:50.433332992</td>\n",
       "      <td>2024-08-12 20:39:03</td>\n",
       "      <td>2024-08-12 20:53:53</td>\n",
       "      <td>2024-08-12 21:10:03</td>\n",
       "      <td>2024-08-12 22:41:47.249999872</td>\n",
       "      <td>2024-08-13 09:57:23</td>\n",
       "      <td>NaN</td>\n",
       "    </tr>\n",
       "    <tr>\n",
       "      <th>coord_lon</th>\n",
       "      <td>60.0</td>\n",
       "      <td>-3.703593</td>\n",
       "      <td>-3.7038</td>\n",
       "      <td>-3.7038</td>\n",
       "      <td>-3.7038</td>\n",
       "      <td>-3.7036</td>\n",
       "      <td>-3.7</td>\n",
       "      <td>0.000568</td>\n",
       "    </tr>\n",
       "    <tr>\n",
       "      <th>coord_lat</th>\n",
       "      <td>60.0</td>\n",
       "      <td>40.416712</td>\n",
       "      <td>40.4163</td>\n",
       "      <td>40.416775</td>\n",
       "      <td>40.4168</td>\n",
       "      <td>40.4168</td>\n",
       "      <td>40.417</td>\n",
       "      <td>0.000182</td>\n",
       "    </tr>\n",
       "    <tr>\n",
       "      <th>weather_0_id</th>\n",
       "      <td>60.0</td>\n",
       "      <td>800.0</td>\n",
       "      <td>800.0</td>\n",
       "      <td>800.0</td>\n",
       "      <td>800.0</td>\n",
       "      <td>800.0</td>\n",
       "      <td>800.0</td>\n",
       "      <td>0.0</td>\n",
       "    </tr>\n",
       "    <tr>\n",
       "      <th>main_temp</th>\n",
       "      <td>60.0</td>\n",
       "      <td>26.2285</td>\n",
       "      <td>23.53</td>\n",
       "      <td>25.22</td>\n",
       "      <td>25.41</td>\n",
       "      <td>25.45</td>\n",
       "      <td>30.44</td>\n",
       "      <td>2.232101</td>\n",
       "    </tr>\n",
       "    <tr>\n",
       "      <th>main_feels_like</th>\n",
       "      <td>60.0</td>\n",
       "      <td>25.7415</td>\n",
       "      <td>23.22</td>\n",
       "      <td>24.92</td>\n",
       "      <td>25.1</td>\n",
       "      <td>25.12</td>\n",
       "      <td>29.25</td>\n",
       "      <td>1.900376</td>\n",
       "    </tr>\n",
       "    <tr>\n",
       "      <th>visibility</th>\n",
       "      <td>60.0</td>\n",
       "      <td>10000.0</td>\n",
       "      <td>10000.0</td>\n",
       "      <td>10000.0</td>\n",
       "      <td>10000.0</td>\n",
       "      <td>10000.0</td>\n",
       "      <td>10000.0</td>\n",
       "      <td>0.0</td>\n",
       "    </tr>\n",
       "    <tr>\n",
       "      <th>wind_speed</th>\n",
       "      <td>60.0</td>\n",
       "      <td>4.048333</td>\n",
       "      <td>2.57</td>\n",
       "      <td>3.09</td>\n",
       "      <td>3.13</td>\n",
       "      <td>4.12</td>\n",
       "      <td>7.2</td>\n",
       "      <td>1.710616</td>\n",
       "    </tr>\n",
       "    <tr>\n",
       "      <th>wind_deg</th>\n",
       "      <td>60.0</td>\n",
       "      <td>190.033333</td>\n",
       "      <td>30.0</td>\n",
       "      <td>40.0</td>\n",
       "      <td>220.0</td>\n",
       "      <td>342.0</td>\n",
       "      <td>360.0</td>\n",
       "      <td>136.399459</td>\n",
       "    </tr>\n",
       "    <tr>\n",
       "      <th>clouds_all</th>\n",
       "      <td>60.0</td>\n",
       "      <td>0.0</td>\n",
       "      <td>0.0</td>\n",
       "      <td>0.0</td>\n",
       "      <td>0.0</td>\n",
       "      <td>0.0</td>\n",
       "      <td>0.0</td>\n",
       "      <td>0.0</td>\n",
       "    </tr>\n",
       "    <tr>\n",
       "      <th>sys_type</th>\n",
       "      <td>60.0</td>\n",
       "      <td>2.0</td>\n",
       "      <td>2.0</td>\n",
       "      <td>2.0</td>\n",
       "      <td>2.0</td>\n",
       "      <td>2.0</td>\n",
       "      <td>2.0</td>\n",
       "      <td>0.0</td>\n",
       "    </tr>\n",
       "    <tr>\n",
       "      <th>sys_id</th>\n",
       "      <td>60.0</td>\n",
       "      <td>2008819.733333</td>\n",
       "      <td>2007545.0</td>\n",
       "      <td>2007545.0</td>\n",
       "      <td>2007545.0</td>\n",
       "      <td>2007545.0</td>\n",
       "      <td>2084029.0</td>\n",
       "      <td>9874.041942</td>\n",
       "    </tr>\n",
       "    <tr>\n",
       "      <th>sys_sunrise</th>\n",
       "      <td>60</td>\n",
       "      <td>2024-08-13 00:24:04.983333376</td>\n",
       "      <td>2024-08-13 00:24:04</td>\n",
       "      <td>2024-08-13 00:24:05</td>\n",
       "      <td>2024-08-13 00:24:05</td>\n",
       "      <td>2024-08-13 00:24:05</td>\n",
       "      <td>2024-08-13 00:24:05</td>\n",
       "      <td>NaN</td>\n",
       "    </tr>\n",
       "    <tr>\n",
       "      <th>sys_sunset</th>\n",
       "      <td>60</td>\n",
       "      <td>2024-08-13 14:15:21.916666624</td>\n",
       "      <td>2024-08-13 14:15:21</td>\n",
       "      <td>2024-08-13 14:15:22</td>\n",
       "      <td>2024-08-13 14:15:22</td>\n",
       "      <td>2024-08-13 14:15:22</td>\n",
       "      <td>2024-08-13 14:15:22</td>\n",
       "      <td>NaN</td>\n",
       "    </tr>\n",
       "    <tr>\n",
       "      <th>timezone</th>\n",
       "      <td>60.0</td>\n",
       "      <td>7200.0</td>\n",
       "      <td>7200.0</td>\n",
       "      <td>7200.0</td>\n",
       "      <td>7200.0</td>\n",
       "      <td>7200.0</td>\n",
       "      <td>7200.0</td>\n",
       "      <td>0.0</td>\n",
       "    </tr>\n",
       "    <tr>\n",
       "      <th>id</th>\n",
       "      <td>60.0</td>\n",
       "      <td>3631827.383333</td>\n",
       "      <td>3117735.0</td>\n",
       "      <td>3117735.0</td>\n",
       "      <td>3117735.0</td>\n",
       "      <td>3117735.0</td>\n",
       "      <td>6545083.0</td>\n",
       "      <td>1234112.135613</td>\n",
       "    </tr>\n",
       "    <tr>\n",
       "      <th>cod</th>\n",
       "      <td>60.0</td>\n",
       "      <td>200.0</td>\n",
       "      <td>200.0</td>\n",
       "      <td>200.0</td>\n",
       "      <td>200.0</td>\n",
       "      <td>200.0</td>\n",
       "      <td>200.0</td>\n",
       "      <td>0.0</td>\n",
       "    </tr>\n",
       "  </tbody>\n",
       "</table>\n",
       "</div>"
      ],
      "text/plain": [
       "                     count                           mean  \\\n",
       "Temperatura           60.0                        26.2285   \n",
       "Humedad               60.0                      40.683333   \n",
       "Presión               60.0                    1009.566667   \n",
       "Velocidad del viento  60.0                       4.048333   \n",
       "dt                      60  2024-08-12 23:57:50.433332992   \n",
       "coord_lon             60.0                      -3.703593   \n",
       "coord_lat             60.0                      40.416712   \n",
       "weather_0_id          60.0                          800.0   \n",
       "main_temp             60.0                        26.2285   \n",
       "main_feels_like       60.0                        25.7415   \n",
       "visibility            60.0                        10000.0   \n",
       "wind_speed            60.0                       4.048333   \n",
       "wind_deg              60.0                     190.033333   \n",
       "clouds_all            60.0                            0.0   \n",
       "sys_type              60.0                            2.0   \n",
       "sys_id                60.0                 2008819.733333   \n",
       "sys_sunrise             60  2024-08-13 00:24:04.983333376   \n",
       "sys_sunset              60  2024-08-13 14:15:21.916666624   \n",
       "timezone              60.0                         7200.0   \n",
       "id                    60.0                 3631827.383333   \n",
       "cod                   60.0                          200.0   \n",
       "\n",
       "                                      min                  25%  \\\n",
       "Temperatura                         23.53                25.22   \n",
       "Humedad                              31.0                 41.0   \n",
       "Presión                            1008.0               1010.0   \n",
       "Velocidad del viento                 2.57                 3.09   \n",
       "dt                    2024-08-12 20:39:03  2024-08-12 20:53:53   \n",
       "coord_lon                         -3.7038              -3.7038   \n",
       "coord_lat                         40.4163            40.416775   \n",
       "weather_0_id                        800.0                800.0   \n",
       "main_temp                           23.53                25.22   \n",
       "main_feels_like                     23.22                24.92   \n",
       "visibility                        10000.0              10000.0   \n",
       "wind_speed                           2.57                 3.09   \n",
       "wind_deg                             30.0                 40.0   \n",
       "clouds_all                            0.0                  0.0   \n",
       "sys_type                              2.0                  2.0   \n",
       "sys_id                          2007545.0            2007545.0   \n",
       "sys_sunrise           2024-08-13 00:24:04  2024-08-13 00:24:05   \n",
       "sys_sunset            2024-08-13 14:15:21  2024-08-13 14:15:22   \n",
       "timezone                           7200.0               7200.0   \n",
       "id                              3117735.0            3117735.0   \n",
       "cod                                 200.0                200.0   \n",
       "\n",
       "                                      50%                            75%  \\\n",
       "Temperatura                         25.41                          25.45   \n",
       "Humedad                              42.0                           43.0   \n",
       "Presión                            1010.0                         1010.0   \n",
       "Velocidad del viento                 3.13                           4.12   \n",
       "dt                    2024-08-12 21:10:03  2024-08-12 22:41:47.249999872   \n",
       "coord_lon                         -3.7038                        -3.7036   \n",
       "coord_lat                         40.4168                        40.4168   \n",
       "weather_0_id                        800.0                          800.0   \n",
       "main_temp                           25.41                          25.45   \n",
       "main_feels_like                      25.1                          25.12   \n",
       "visibility                        10000.0                        10000.0   \n",
       "wind_speed                           3.13                           4.12   \n",
       "wind_deg                            220.0                          342.0   \n",
       "clouds_all                            0.0                            0.0   \n",
       "sys_type                              2.0                            2.0   \n",
       "sys_id                          2007545.0                      2007545.0   \n",
       "sys_sunrise           2024-08-13 00:24:05            2024-08-13 00:24:05   \n",
       "sys_sunset            2024-08-13 14:15:22            2024-08-13 14:15:22   \n",
       "timezone                           7200.0                         7200.0   \n",
       "id                              3117735.0                      3117735.0   \n",
       "cod                                 200.0                          200.0   \n",
       "\n",
       "                                      max             std  \n",
       "Temperatura                         30.44        2.232101  \n",
       "Humedad                              50.0        5.123861  \n",
       "Presión                            1010.0          0.8309  \n",
       "Velocidad del viento                  7.2        1.710616  \n",
       "dt                    2024-08-13 09:57:23             NaN  \n",
       "coord_lon                            -3.7        0.000568  \n",
       "coord_lat                          40.417        0.000182  \n",
       "weather_0_id                        800.0             0.0  \n",
       "main_temp                           30.44        2.232101  \n",
       "main_feels_like                     29.25        1.900376  \n",
       "visibility                        10000.0             0.0  \n",
       "wind_speed                            7.2        1.710616  \n",
       "wind_deg                            360.0      136.399459  \n",
       "clouds_all                            0.0             0.0  \n",
       "sys_type                              2.0             0.0  \n",
       "sys_id                          2084029.0     9874.041942  \n",
       "sys_sunrise           2024-08-13 00:24:05             NaN  \n",
       "sys_sunset            2024-08-13 14:15:22             NaN  \n",
       "timezone                           7200.0             0.0  \n",
       "id                              6545083.0  1234112.135613  \n",
       "cod                                 200.0             0.0  "
      ]
     },
     "execution_count": 10,
     "metadata": {},
     "output_type": "execute_result"
    }
   ],
   "source": [
    "df_etl.describe().transpose()"
   ]
  },
  {
   "cell_type": "markdown",
   "id": "783f3b80-78ce-4740-a40f-4b69c86dd75b",
   "metadata": {},
   "source": [
    "Presentación de Resultados\n",
    "Se procede a realizar gráficas de interés para estudiar el comportamiento climatológico"
   ]
  },
  {
   "cell_type": "code",
   "execution_count": 11,
   "id": "4c740c8e-4700-4c6f-a6d6-b00a95facd91",
   "metadata": {},
   "outputs": [
    {
     "data": {
      "text/plain": [
       "Text(0.5, 1.0, 'Main Temp vs Time in Sol')"
      ]
     },
     "execution_count": 11,
     "metadata": {},
     "output_type": "execute_result"
    },
    {
     "data": {
      "image/png": "[encoded data removed]",
      "text/plain": [
       "<Figure size 640x480 with 1 Axes>"
      ]
     },
     "metadata": {},
     "output_type": "display_data"
    }
   ],
   "source": [
    "import matplotlib.pyplot as plt\n",
    "\n",
    "df_etl.plot.line('dt', 'main_temp')\n",
    "plt.grid()\n",
    "plt.title(f'Main Temp vs Time in {next(iter(set(df_etl.name)))}')"
   ]
  },
  {
   "cell_type": "code",
   "execution_count": 17,
   "id": "d1ba39f7-4095-4355-8b02-dab5cb4734c3",
   "metadata": {},
   "outputs": [
    {
     "data": {
      "application/vnd.plotly.v1+json": {
       "config": {
        "plotlyServerURL": "https://plot.ly"
       },
       "data": [
        {
         "hovertemplate": "variable=main_temp<br>dt=%{x}<br>value=%{y}<extra></extra>",
         "legendgroup": "main_temp",
         "line": {
          "color": "#636efa",
          "dash": "solid"
         },
         "marker": {
          "symbol": "circle"
         },
         "mode": "lines",
         "name": "main_temp",
         "orientation": "v",
         "showlegend": true,
         "type": "scatter",
         "x": [
          "2024-08-12T20:39:03",
          "2024-08-12T20:39:03",
          "2024-08-12T20:39:03",
          "2024-08-12T20:39:03",
          "2024-08-12T20:45:58",
          "2024-08-12T20:45:58",
          "2024-08-12T20:45:58",
          "2024-08-12T20:45:58",
          "2024-08-12T20:45:58",
          "2024-08-12T20:53:53",
          "2024-08-12T20:53:53",
          "2024-08-12T20:53:53",
          "2024-08-12T20:53:53",
          "2024-08-12T20:53:53",
          "2024-08-12T20:59:03",
          "2024-08-12T20:59:03",
          "2024-08-12T20:59:03",
          "2024-08-12T20:53:53",
          "2024-08-12T20:53:53",
          "2024-08-12T20:59:03",
          "2024-08-12T20:59:03",
          "2024-08-12T20:59:03",
          "2024-08-12T20:59:03",
          "2024-08-12T20:59:03",
          "2024-08-12T20:59:03",
          "2024-08-12T21:10:03",
          "2024-08-12T21:10:03",
          "2024-08-12T21:10:03",
          "2024-08-12T21:10:03",
          "2024-08-12T21:10:03",
          "2024-08-12T21:10:03",
          "2024-08-12T21:10:03",
          "2024-08-12T21:10:03",
          "2024-08-12T21:10:03",
          "2024-08-12T21:10:03",
          "2024-08-12T21:20:03",
          "2024-08-12T21:21:02",
          "2024-08-12T21:21:02",
          "2024-08-12T21:21:02",
          "2024-08-12T21:21:02",
          "2024-08-12T21:35:43",
          "2024-08-12T22:00:02",
          "2024-08-12T22:15:03",
          "2024-08-12T22:30:03",
          "2024-08-12T22:35:43",
          "2024-08-12T23:00:00",
          "2024-08-12T23:10:56",
          "2024-08-13T09:45:07",
          "2024-08-13T09:49:51",
          "2024-08-13T09:49:51",
          "2024-08-13T09:49:51",
          "2024-08-13T09:49:51",
          "2024-08-13T09:57:23",
          "2024-08-13T09:57:23",
          "2024-08-13T09:57:23",
          "2024-08-13T09:57:23",
          "2024-08-13T09:57:23",
          "2024-08-13T09:57:23",
          "2024-08-13T09:57:23",
          "2024-08-13T09:57:23"
         ],
         "xaxis": "x",
         "y": [
          25.45,
          25.45,
          25.45,
          25.45,
          25.41,
          25.41,
          25.41,
          25.41,
          25.41,
          25.41,
          25.41,
          25.41,
          25.41,
          25.41,
          25.41,
          25.41,
          25.41,
          25.41,
          25.41,
          25.41,
          25.41,
          25.41,
          25.41,
          25.41,
          25.41,
          25.22,
          25.22,
          25.22,
          25.22,
          25.22,
          25.22,
          25.22,
          25.22,
          25.22,
          25.22,
          24.68,
          24.68,
          24.68,
          24.68,
          24.68,
          24.46,
          24.35,
          24.15,
          24.02,
          24.02,
          23.53,
          23.66,
          29.95,
          30.44,
          30.44,
          30.44,
          30.44,
          30.35,
          30.35,
          30.35,
          30.35,
          30.35,
          30.35,
          30.35,
          30.35
         ],
         "yaxis": "y"
        },
        {
         "hovertemplate": "variable=Humedad<br>dt=%{x}<br>value=%{y}<extra></extra>",
         "legendgroup": "Humedad",
         "line": {
          "color": "#EF553B",
          "dash": "solid"
         },
         "marker": {
          "symbol": "circle"
         },
         "mode": "lines",
         "name": "Humedad",
         "orientation": "v",
         "showlegend": true,
         "type": "scatter",
         "x": [
          "2024-08-12T20:39:03",
          "2024-08-12T20:39:03",
          "2024-08-12T20:39:03",
          "2024-08-12T20:39:03",
          "2024-08-12T20:45:58",
          "2024-08-12T20:45:58",
          "2024-08-12T20:45:58",
          "2024-08-12T20:45:58",
          "2024-08-12T20:45:58",
          "2024-08-12T20:53:53",
          "2024-08-12T20:53:53",
          "2024-08-12T20:53:53",
          "2024-08-12T20:53:53",
          "2024-08-12T20:53:53",
          "2024-08-12T20:59:03",
          "2024-08-12T20:59:03",
          "2024-08-12T20:59:03",
          "2024-08-12T20:53:53",
          "2024-08-12T20:53:53",
          "2024-08-12T20:59:03",
          "2024-08-12T20:59:03",
          "2024-08-12T20:59:03",
          "2024-08-12T20:59:03",
          "2024-08-12T20:59:03",
          "2024-08-12T20:59:03",
          "2024-08-12T21:10:03",
          "2024-08-12T21:10:03",
          "2024-08-12T21:10:03",
          "2024-08-12T21:10:03",
          "2024-08-12T21:10:03",
          "2024-08-12T21:10:03",
          "2024-08-12T21:10:03",
          "2024-08-12T21:10:03",
          "2024-08-12T21:10:03",
          "2024-08-12T21:10:03",
          "2024-08-12T21:20:03",
          "2024-08-12T21:21:02",
          "2024-08-12T21:21:02",
          "2024-08-12T21:21:02",
          "2024-08-12T21:21:02",
          "2024-08-12T21:35:43",
          "2024-08-12T22:00:02",
          "2024-08-12T22:15:03",
          "2024-08-12T22:30:03",
          "2024-08-12T22:35:43",
          "2024-08-12T23:00:00",
          "2024-08-12T23:10:56",
          "2024-08-13T09:45:07",
          "2024-08-13T09:49:51",
          "2024-08-13T09:49:51",
          "2024-08-13T09:49:51",
          "2024-08-13T09:49:51",
          "2024-08-13T09:57:23",
          "2024-08-13T09:57:23",
          "2024-08-13T09:57:23",
          "2024-08-13T09:57:23",
          "2024-08-13T09:57:23",
          "2024-08-13T09:57:23",
          "2024-08-13T09:57:23",
          "2024-08-13T09:57:23"
         ],
         "xaxis": "x",
         "y": [
          41,
          41,
          41,
          41,
          42,
          42,
          42,
          42,
          42,
          42,
          42,
          42,
          42,
          42,
          42,
          42,
          42,
          42,
          42,
          42,
          42,
          42,
          42,
          42,
          42,
          43,
          43,
          43,
          43,
          43,
          43,
          43,
          43,
          43,
          43,
          44,
          44,
          44,
          44,
          44,
          45,
          46,
          47,
          48,
          48,
          49,
          50,
          32,
          31,
          31,
          31,
          31,
          32,
          32,
          32,
          32,
          32,
          32,
          32,
          32
         ],
         "yaxis": "y"
        }
       ],
       "layout": {
        "legend": {
         "title": {
          "text": "variable"
         },
         "tracegroupgap": 0
        },
        "template": {
         "data": {
          "bar": [
           {
            "error_x": {
             "color": "#2a3f5f"
            },
            "error_y": {
             "color": "#2a3f5f"
            },
            "marker": {
             "line": {
              "color": "#E5ECF6",
              "width": 0.5
             },
             "pattern": {
              "fillmode": "overlay",
              "size": 10,
              "solidity": 0.2
             }
            },
            "type": "bar"
           }
          ],
          "barpolar": [
           {
            "marker": {
             "line": {
              "color": "#E5ECF6",
              "width": 0.5
             },
             "pattern": {
              "fillmode": "overlay",
              "size": 10,
              "solidity": 0.2
             }
            },
            "type": "barpolar"
           }
          ],
          "carpet": [
           {
            "aaxis": {
             "endlinecolor": "#2a3f5f",
             "gridcolor": "white",
             "linecolor": "white",
             "minorgridcolor": "white",
             "startlinecolor": "#2a3f5f"
            },
            "baxis": {
             "endlinecolor": "#2a3f5f",
             "gridcolor": "white",
             "linecolor": "white",
             "minorgridcolor": "white",
             "startlinecolor": "#2a3f5f"
            },
            "type": "carpet"
           }
          ],
          "choropleth": [
           {
            "colorbar": {
             "outlinewidth": 0,
             "ticks": ""
            },
            "type": "choropleth"
           }
          ],
          "contour": [
           {
            "colorbar": {
             "outlinewidth": 0,
             "ticks": ""
            },
            "colorscale": [
             [
              0,
              "#0d0887"
             ],
             [
              0.1111111111111111,
              "#46039f"
             ],
             [
              0.2222222222222222,
              "#7201a8"
             ],
             [
              0.3333333333333333,
              "#9c179e"
             ],
             [
              0.4444444444444444,
              "#bd3786"
             ],
             [
              0.5555555555555556,
              "#d8576b"
             ],
             [
              0.6666666666666666,
              "#ed7953"
             ],
             [
              0.7777777777777778,
              "#fb9f3a"
             ],
             [
              0.8888888888888888,
              "#fdca26"
             ],
             [
              1,
              "#f0f921"
             ]
            ],
            "type": "contour"
           }
          ],
          "contourcarpet": [
           {
            "colorbar": {
             "outlinewidth": 0,
             "ticks": ""
            },
            "type": "contourcarpet"
           }
          ],
          "heatmap": [
           {
            "colorbar": {
             "outlinewidth": 0,
             "ticks": ""
            },
            "colorscale": [
             [
              0,
              "#0d0887"
             ],
             [
              0.1111111111111111,
              "#46039f"
             ],
             [
              0.2222222222222222,
              "#7201a8"
             ],
             [
              0.3333333333333333,
              "#9c179e"
             ],
             [
              0.4444444444444444,
              "#bd3786"
             ],
             [
              0.5555555555555556,
              "#d8576b"
             ],
             [
              0.6666666666666666,
              "#ed7953"
             ],
             [
              0.7777777777777778,
              "#fb9f3a"
             ],
             [
              0.8888888888888888,
              "#fdca26"
             ],
             [
              1,
              "#f0f921"
             ]
            ],
            "type": "heatmap"
           }
          ],
          "heatmapgl": [
           {
            "colorbar": {
             "outlinewidth": 0,
             "ticks": ""
            },
            "colorscale": [
             [
              0,
              "#0d0887"
             ],
             [
              0.1111111111111111,
              "#46039f"
             ],
             [
              0.2222222222222222,
              "#7201a8"
             ],
             [
              0.3333333333333333,
              "#9c179e"
             ],
             [
              0.4444444444444444,
              "#bd3786"
             ],
             [
              0.5555555555555556,
              "#d8576b"
             ],
             [
              0.6666666666666666,
              "#ed7953"
             ],
             [
              0.7777777777777778,
              "#fb9f3a"
             ],
             [
              0.8888888888888888,
              "#fdca26"
             ],
             [
              1,
              "#f0f921"
             ]
            ],
            "type": "heatmapgl"
           }
          ],
          "histogram": [
           {
            "marker": {
             "pattern": {
              "fillmode": "overlay",
              "size": 10,
              "solidity": 0.2
             }
            },
            "type": "histogram"
           }
          ],
          "histogram2d": [
           {
            "colorbar": {
             "outlinewidth": 0,
             "ticks": ""
            },
            "colorscale": [
             [
              0,
              "#0d0887"
             ],
             [
              0.1111111111111111,
              "#46039f"
             ],
             [
              0.2222222222222222,
              "#7201a8"
             ],
             [
              0.3333333333333333,
              "#9c179e"
             ],
             [
              0.4444444444444444,
              "#bd3786"
             ],
             [
              0.5555555555555556,
              "#d8576b"
             ],
             [
              0.6666666666666666,
              "#ed7953"
             ],
             [
              0.7777777777777778,
              "#fb9f3a"
             ],
             [
              0.8888888888888888,
              "#fdca26"
             ],
             [
              1,
              "#f0f921"
             ]
            ],
            "type": "histogram2d"
           }
          ],
          "histogram2dcontour": [
           {
            "colorbar": {
             "outlinewidth": 0,
             "ticks": ""
            },
            "colorscale": [
             [
              0,
              "#0d0887"
             ],
             [
              0.1111111111111111,
              "#46039f"
             ],
             [
              0.2222222222222222,
              "#7201a8"
             ],
             [
              0.3333333333333333,
              "#9c179e"
             ],
             [
              0.4444444444444444,
              "#bd3786"
             ],
             [
              0.5555555555555556,
              "#d8576b"
             ],
             [
              0.6666666666666666,
              "#ed7953"
             ],
             [
              0.7777777777777778,
              "#fb9f3a"
             ],
             [
              0.8888888888888888,
              "#fdca26"
             ],
             [
              1,
              "#f0f921"
             ]
            ],
            "type": "histogram2dcontour"
           }
          ],
          "mesh3d": [
           {
            "colorbar": {
             "outlinewidth": 0,
             "ticks": ""
            },
            "type": "mesh3d"
           }
          ],
          "parcoords": [
           {
            "line": {
             "colorbar": {
              "outlinewidth": 0,
              "ticks": ""
             }
            },
            "type": "parcoords"
           }
          ],
          "pie": [
           {
            "automargin": true,
            "type": "pie"
           }
          ],
          "scatter": [
           {
            "fillpattern": {
             "fillmode": "overlay",
             "size": 10,
             "solidity": 0.2
            },
            "type": "scatter"
           }
          ],
          "scatter3d": [
           {
            "line": {
             "colorbar": {
              "outlinewidth": 0,
              "ticks": ""
             }
            },
            "marker": {
             "colorbar": {
              "outlinewidth": 0,
              "ticks": ""
             }
            },
            "type": "scatter3d"
           }
          ],
          "scattercarpet": [
           {
            "marker": {
             "colorbar": {
              "outlinewidth": 0,
              "ticks": ""
             }
            },
            "type": "scattercarpet"
           }
          ],
          "scattergeo": [
           {
            "marker": {
             "colorbar": {
              "outlinewidth": 0,
              "ticks": ""
             }
            },
            "type": "scattergeo"
           }
          ],
          "scattergl": [
           {
            "marker": {
             "colorbar": {
              "outlinewidth": 0,
              "ticks": ""
             }
            },
            "type": "scattergl"
           }
          ],
          "scattermapbox": [
           {
            "marker": {
             "colorbar": {
              "outlinewidth": 0,
              "ticks": ""
             }
            },
            "type": "scattermapbox"
           }
          ],
          "scatterpolar": [
           {
            "marker": {
             "colorbar": {
              "outlinewidth": 0,
              "ticks": ""
             }
            },
            "type": "scatterpolar"
           }
          ],
          "scatterpolargl": [
           {
            "marker": {
             "colorbar": {
              "outlinewidth": 0,
              "ticks": ""
             }
            },
            "type": "scatterpolargl"
           }
          ],
          "scatterternary": [
           {
            "marker": {
             "colorbar": {
              "outlinewidth": 0,
              "ticks": ""
             }
            },
            "type": "scatterternary"
           }
          ],
          "surface": [
           {
            "colorbar": {
             "outlinewidth": 0,
             "ticks": ""
            },
            "colorscale": [
             [
              0,
              "#0d0887"
             ],
             [
              0.1111111111111111,
              "#46039f"
             ],
             [
              0.2222222222222222,
              "#7201a8"
             ],
             [
              0.3333333333333333,
              "#9c179e"
             ],
             [
              0.4444444444444444,
              "#bd3786"
             ],
             [
              0.5555555555555556,
              "#d8576b"
             ],
             [
              0.6666666666666666,
              "#ed7953"
             ],
             [
              0.7777777777777778,
              "#fb9f3a"
             ],
             [
              0.8888888888888888,
              "#fdca26"
             ],
             [
              1,
              "#f0f921"
             ]
            ],
            "type": "surface"
           }
          ],
          "table": [
           {
            "cells": {
             "fill": {
              "color": "#EBF0F8"
             },
             "line": {
              "color": "white"
             }
            },
            "header": {
             "fill": {
              "color": "#C8D4E3"
             },
             "line": {
              "color": "white"
             }
            },
            "type": "table"
           }
          ]
         },
         "layout": {
          "annotationdefaults": {
           "arrowcolor": "#2a3f5f",
           "arrowhead": 0,
           "arrowwidth": 1
          },
          "autotypenumbers": "strict",
          "coloraxis": {
           "colorbar": {
            "outlinewidth": 0,
            "ticks": ""
           }
          },
          "colorscale": {
           "diverging": [
            [
             0,
             "#8e0152"
            ],
            [
             0.1,
             "#c51b7d"
            ],
            [
             0.2,
             "#de77ae"
            ],
            [
             0.3,
             "#f1b6da"
            ],
            [
             0.4,
             "#fde0ef"
            ],
            [
             0.5,
             "#f7f7f7"
            ],
            [
             0.6,
             "#e6f5d0"
            ],
            [
             0.7,
             "#b8e186"
            ],
            [
             0.8,
             "#7fbc41"
            ],
            [
             0.9,
             "#4d9221"
            ],
            [
             1,
             "#276419"
            ]
           ],
           "sequential": [
            [
             0,
             "#0d0887"
            ],
            [
             0.1111111111111111,
             "#46039f"
            ],
            [
             0.2222222222222222,
             "#7201a8"
            ],
            [
             0.3333333333333333,
             "#9c179e"
            ],
            [
             0.4444444444444444,
             "#bd3786"
            ],
            [
             0.5555555555555556,
             "#d8576b"
            ],
            [
             0.6666666666666666,
             "#ed7953"
            ],
            [
             0.7777777777777778,
             "#fb9f3a"
            ],
            [
             0.8888888888888888,
             "#fdca26"
            ],
            [
             1,
             "#f0f921"
            ]
           ],
           "sequentialminus": [
            [
             0,
             "#0d0887"
            ],
            [
             0.1111111111111111,
             "#46039f"
            ],
            [
             0.2222222222222222,
             "#7201a8"
            ],
            [
             0.3333333333333333,
             "#9c179e"
            ],
            [
             0.4444444444444444,
             "#bd3786"
            ],
            [
             0.5555555555555556,
             "#d8576b"
            ],
            [
             0.6666666666666666,
             "#ed7953"
            ],
            [
             0.7777777777777778,
             "#fb9f3a"
            ],
            [
             0.8888888888888888,
             "#fdca26"
            ],
            [
             1,
             "#f0f921"
            ]
           ]
          },
          "colorway": [
           "#636efa",
           "#EF553B",
           "#00cc96",
           "#ab63fa",
           "#FFA15A",
           "#19d3f3",
           "#FF6692",
           "#B6E880",
           "#FF97FF",
           "#FECB52"
          ],
          "font": {
           "color": "#2a3f5f"
          },
          "geo": {
           "bgcolor": "white",
           "lakecolor": "white",
           "landcolor": "#E5ECF6",
           "showlakes": true,
           "showland": true,
           "subunitcolor": "white"
          },
          "hoverlabel": {
           "align": "left"
          },
          "hovermode": "closest",
          "mapbox": {
           "style": "light"
          },
          "paper_bgcolor": "white",
          "plot_bgcolor": "#E5ECF6",
          "polar": {
           "angularaxis": {
            "gridcolor": "white",
            "linecolor": "white",
            "ticks": ""
           },
           "bgcolor": "#E5ECF6",
           "radialaxis": {
            "gridcolor": "white",
            "linecolor": "white",
            "ticks": ""
           }
          },
          "scene": {
           "xaxis": {
            "backgroundcolor": "#E5ECF6",
            "gridcolor": "white",
            "gridwidth": 2,
            "linecolor": "white",
            "showbackground": true,
            "ticks": "",
            "zerolinecolor": "white"
           },
           "yaxis": {
            "backgroundcolor": "#E5ECF6",
            "gridcolor": "white",
            "gridwidth": 2,
            "linecolor": "white",
            "showbackground": true,
            "ticks": "",
            "zerolinecolor": "white"
           },
           "zaxis": {
            "backgroundcolor": "#E5ECF6",
            "gridcolor": "white",
            "gridwidth": 2,
            "linecolor": "white",
            "showbackground": true,
            "ticks": "",
            "zerolinecolor": "white"
           }
          },
          "shapedefaults": {
           "line": {
            "color": "#2a3f5f"
           }
          },
          "ternary": {
           "aaxis": {
            "gridcolor": "white",
            "linecolor": "white",
            "ticks": ""
           },
           "baxis": {
            "gridcolor": "white",
            "linecolor": "white",
            "ticks": ""
           },
           "bgcolor": "#E5ECF6",
           "caxis": {
            "gridcolor": "white",
            "linecolor": "white",
            "ticks": ""
           }
          },
          "title": {
           "x": 0.05
          },
          "xaxis": {
           "automargin": true,
           "gridcolor": "white",
           "linecolor": "white",
           "ticks": "",
           "title": {
            "standoff": 15
           },
           "zerolinecolor": "white",
           "zerolinewidth": 2
          },
          "yaxis": {
           "automargin": true,
           "gridcolor": "white",
           "linecolor": "white",
           "ticks": "",
           "title": {
            "standoff": 15
           },
           "zerolinecolor": "white",
           "zerolinewidth": 2
          }
         }
        },
        "title": {
         "text": "Main Tem & Humidity vs Time in Sol"
        },
        "xaxis": {
         "anchor": "y",
         "domain": [
          0,
          1
         ],
         "title": {
          "text": "dt"
         }
        },
        "yaxis": {
         "anchor": "x",
         "domain": [
          0,
          1
         ],
         "title": {
          "text": "value"
         }
        }
       }
      },
      "text/html": [
       "<div>                            <div id=\"a4676417-08fc-48ea-9e62-ffa91a63b601\" class=\"plotly-graph-div\" style=\"height:525px; width:100%;\"></div>            <script type=\"text/javascript\">                require([\"plotly\"], function(Plotly) {                    window.PLOTLYENV=window.PLOTLYENV || {};                                    if (document.getElementById(\"a4676417-08fc-48ea-9e62-ffa91a63b601\")) {                    Plotly.newPlot(                        \"a4676417-08fc-48ea-9e62-ffa91a63b601\",                        [{\"hovertemplate\":\"variable=main_temp\\u003cbr\\u003edt=%{x}\\u003cbr\\u003evalue=%{y}\\u003cextra\\u003e\\u003c\\u002fextra\\u003e\",\"legendgroup\":\"main_temp\",\"line\":{\"color\":\"#636efa\",\"dash\":\"solid\"},\"marker\":{\"symbol\":\"circle\"},\"mode\":\"lines\",\"name\":\"main_temp\",\"orientation\":\"v\",\"showlegend\":true,\"x\":[\"2024-08-12T20:39:03\",\"2024-08-12T20:39:03\",\"2024-08-12T20:39:03\",\"2024-08-12T20:39:03\",\"2024-08-12T20:45:58\",\"2024-08-12T20:45:58\",\"2024-08-12T20:45:58\",\"2024-08-12T20:45:58\",\"2024-08-12T20:45:58\",\"2024-08-12T20:53:53\",\"2024-08-12T20:53:53\",\"2024-08-12T20:53:53\",\"2024-08-12T20:53:53\",\"2024-08-12T20:53:53\",\"2024-08-12T20:59:03\",\"2024-08-12T20:59:03\",\"2024-08-12T20:59:03\",\"2024-08-12T20:53:53\",\"2024-08-12T20:53:53\",\"2024-08-12T20:59:03\",\"2024-08-12T20:59:03\",\"2024-08-12T20:59:03\",\"2024-08-12T20:59:03\",\"2024-08-12T20:59:03\",\"2024-08-12T20:59:03\",\"2024-08-12T21:10:03\",\"2024-08-12T21:10:03\",\"2024-08-12T21:10:03\",\"2024-08-12T21:10:03\",\"2024-08-12T21:10:03\",\"2024-08-12T21:10:03\",\"2024-08-12T21:10:03\",\"2024-08-12T21:10:03\",\"2024-08-12T21:10:03\",\"2024-08-12T21:10:03\",\"2024-08-12T21:20:03\",\"2024-08-12T21:21:02\",\"2024-08-12T21:21:02\",\"2024-08-12T21:21:02\",\"2024-08-12T21:21:02\",\"2024-08-12T21:35:43\",\"2024-08-12T22:00:02\",\"2024-08-12T22:15:03\",\"2024-08-12T22:30:03\",\"2024-08-12T22:35:43\",\"2024-08-12T23:00:00\",\"2024-08-12T23:10:56\",\"2024-08-13T09:45:07\",\"2024-08-13T09:49:51\",\"2024-08-13T09:49:51\",\"2024-08-13T09:49:51\",\"2024-08-13T09:49:51\",\"2024-08-13T09:57:23\",\"2024-08-13T09:57:23\",\"2024-08-13T09:57:23\",\"2024-08-13T09:57:23\",\"2024-08-13T09:57:23\",\"2024-08-13T09:57:23\",\"2024-08-13T09:57:23\",\"2024-08-13T09:57:23\"],\"xaxis\":\"x\",\"y\":[25.45,25.45,25.45,25.45,25.41,25.41,25.41,25.41,25.41,25.41,25.41,25.41,25.41,25.41,25.41,25.41,25.41,25.41,25.41,25.41,25.41,25.41,25.41,25.41,25.41,25.22,25.22,25.22,25.22,25.22,25.22,25.22,25.22,25.22,25.22,24.68,24.68,24.68,24.68,24.68,24.46,24.35,24.15,24.02,24.02,23.53,23.66,29.95,30.44,30.44,30.44,30.44,30.35,30.35,30.35,30.35,30.35,30.35,30.35,30.35],\"yaxis\":\"y\",\"type\":\"scatter\"},{\"hovertemplate\":\"variable=Humedad\\u003cbr\\u003edt=%{x}\\u003cbr\\u003evalue=%{y}\\u003cextra\\u003e\\u003c\\u002fextra\\u003e\",\"legendgroup\":\"Humedad\",\"line\":{\"color\":\"#EF553B\",\"dash\":\"solid\"},\"marker\":{\"symbol\":\"circle\"},\"mode\":\"lines\",\"name\":\"Humedad\",\"orientation\":\"v\",\"showlegend\":true,\"x\":[\"2024-08-12T20:39:03\",\"2024-08-12T20:39:03\",\"2024-08-12T20:39:03\",\"2024-08-12T20:39:03\",\"2024-08-12T20:45:58\",\"2024-08-12T20:45:58\",\"2024-08-12T20:45:58\",\"2024-08-12T20:45:58\",\"2024-08-12T20:45:58\",\"2024-08-12T20:53:53\",\"2024-08-12T20:53:53\",\"2024-08-12T20:53:53\",\"2024-08-12T20:53:53\",\"2024-08-12T20:53:53\",\"2024-08-12T20:59:03\",\"2024-08-12T20:59:03\",\"2024-08-12T20:59:03\",\"2024-08-12T20:53:53\",\"2024-08-12T20:53:53\",\"2024-08-12T20:59:03\",\"2024-08-12T20:59:03\",\"2024-08-12T20:59:03\",\"2024-08-12T20:59:03\",\"2024-08-12T20:59:03\",\"2024-08-12T20:59:03\",\"2024-08-12T21:10:03\",\"2024-08-12T21:10:03\",\"2024-08-12T21:10:03\",\"2024-08-12T21:10:03\",\"2024-08-12T21:10:03\",\"2024-08-12T21:10:03\",\"2024-08-12T21:10:03\",\"2024-08-12T21:10:03\",\"2024-08-12T21:10:03\",\"2024-08-12T21:10:03\",\"2024-08-12T21:20:03\",\"2024-08-12T21:21:02\",\"2024-08-12T21:21:02\",\"2024-08-12T21:21:02\",\"2024-08-12T21:21:02\",\"2024-08-12T21:35:43\",\"2024-08-12T22:00:02\",\"2024-08-12T22:15:03\",\"2024-08-12T22:30:03\",\"2024-08-12T22:35:43\",\"2024-08-12T23:00:00\",\"2024-08-12T23:10:56\",\"2024-08-13T09:45:07\",\"2024-08-13T09:49:51\",\"2024-08-13T09:49:51\",\"2024-08-13T09:49:51\",\"2024-08-13T09:49:51\",\"2024-08-13T09:57:23\",\"2024-08-13T09:57:23\",\"2024-08-13T09:57:23\",\"2024-08-13T09:57:23\",\"2024-08-13T09:57:23\",\"2024-08-13T09:57:23\",\"2024-08-13T09:57:23\",\"2024-08-13T09:57:23\"],\"xaxis\":\"x\",\"y\":[41.0,41.0,41.0,41.0,42.0,42.0,42.0,42.0,42.0,42.0,42.0,42.0,42.0,42.0,42.0,42.0,42.0,42.0,42.0,42.0,42.0,42.0,42.0,42.0,42.0,43.0,43.0,43.0,43.0,43.0,43.0,43.0,43.0,43.0,43.0,44.0,44.0,44.0,44.0,44.0,45.0,46.0,47.0,48.0,48.0,49.0,50.0,32.0,31.0,31.0,31.0,31.0,32.0,32.0,32.0,32.0,32.0,32.0,32.0,32.0],\"yaxis\":\"y\",\"type\":\"scatter\"}],                        {\"template\":{\"data\":{\"histogram2dcontour\":[{\"type\":\"histogram2dcontour\",\"colorbar\":{\"outlinewidth\":0,\"ticks\":\"\"},\"colorscale\":[[0.0,\"#0d0887\"],[0.1111111111111111,\"#46039f\"],[0.2222222222222222,\"#7201a8\"],[0.3333333333333333,\"#9c179e\"],[0.4444444444444444,\"#bd3786\"],[0.5555555555555556,\"#d8576b\"],[0.6666666666666666,\"#ed7953\"],[0.7777777777777778,\"#fb9f3a\"],[0.8888888888888888,\"#fdca26\"],[1.0,\"#f0f921\"]]}],\"choropleth\":[{\"type\":\"choropleth\",\"colorbar\":{\"outlinewidth\":0,\"ticks\":\"\"}}],\"histogram2d\":[{\"type\":\"histogram2d\",\"colorbar\":{\"outlinewidth\":0,\"ticks\":\"\"},\"colorscale\":[[0.0,\"#0d0887\"],[0.1111111111111111,\"#46039f\"],[0.2222222222222222,\"#7201a8\"],[0.3333333333333333,\"#9c179e\"],[0.4444444444444444,\"#bd3786\"],[0.5555555555555556,\"#d8576b\"],[0.6666666666666666,\"#ed7953\"],[0.7777777777777778,\"#fb9f3a\"],[0.8888888888888888,\"#fdca26\"],[1.0,\"#f0f921\"]]}],\"heatmap\":[{\"type\":\"heatmap\",\"colorbar\":{\"outlinewidth\":0,\"ticks\":\"\"},\"colorscale\":[[0.0,\"#0d0887\"],[0.1111111111111111,\"#46039f\"],[0.2222222222222222,\"#7201a8\"],[0.3333333333333333,\"#9c179e\"],[0.4444444444444444,\"#bd3786\"],[0.5555555555555556,\"#d8576b\"],[0.6666666666666666,\"#ed7953\"],[0.7777777777777778,\"#fb9f3a\"],[0.8888888888888888,\"#fdca26\"],[1.0,\"#f0f921\"]]}],\"heatmapgl\":[{\"type\":\"heatmapgl\",\"colorbar\":{\"outlinewidth\":0,\"ticks\":\"\"},\"colorscale\":[[0.0,\"#0d0887\"],[0.1111111111111111,\"#46039f\"],[0.2222222222222222,\"#7201a8\"],[0.3333333333333333,\"#9c179e\"],[0.4444444444444444,\"#bd3786\"],[0.5555555555555556,\"#d8576b\"],[0.6666666666666666,\"#ed7953\"],[0.7777777777777778,\"#fb9f3a\"],[0.8888888888888888,\"#fdca26\"],[1.0,\"#f0f921\"]]}],\"contourcarpet\":[{\"type\":\"contourcarpet\",\"colorbar\":{\"outlinewidth\":0,\"ticks\":\"\"}}],\"contour\":[{\"type\":\"contour\",\"colorbar\":{\"outlinewidth\":0,\"ticks\":\"\"},\"colorscale\":[[0.0,\"#0d0887\"],[0.1111111111111111,\"#46039f\"],[0.2222222222222222,\"#7201a8\"],[0.3333333333333333,\"#9c179e\"],[0.4444444444444444,\"#bd3786\"],[0.5555555555555556,\"#d8576b\"],[0.6666666666666666,\"#ed7953\"],[0.7777777777777778,\"#fb9f3a\"],[0.8888888888888888,\"#fdca26\"],[1.0,\"#f0f921\"]]}],\"surface\":[{\"type\":\"surface\",\"colorbar\":{\"outlinewidth\":0,\"ticks\":\"\"},\"colorscale\":[[0.0,\"#0d0887\"],[0.1111111111111111,\"#46039f\"],[0.2222222222222222,\"#7201a8\"],[0.3333333333333333,\"#9c179e\"],[0.4444444444444444,\"#bd3786\"],[0.5555555555555556,\"#d8576b\"],[0.6666666666666666,\"#ed7953\"],[0.7777777777777778,\"#fb9f3a\"],[0.8888888888888888,\"#fdca26\"],[1.0,\"#f0f921\"]]}],\"mesh3d\":[{\"type\":\"mesh3d\",\"colorbar\":{\"outlinewidth\":0,\"ticks\":\"\"}}],\"scatter\":[{\"fillpattern\":{\"fillmode\":\"overlay\",\"size\":10,\"solidity\":0.2},\"type\":\"scatter\"}],\"parcoords\":[{\"type\":\"parcoords\",\"line\":{\"colorbar\":{\"outlinewidth\":0,\"ticks\":\"\"}}}],\"scatterpolargl\":[{\"type\":\"scatterpolargl\",\"marker\":{\"colorbar\":{\"outlinewidth\":0,\"ticks\":\"\"}}}],\"bar\":[{\"error_x\":{\"color\":\"#2a3f5f\"},\"error_y\":{\"color\":\"#2a3f5f\"},\"marker\":{\"line\":{\"color\":\"#E5ECF6\",\"width\":0.5},\"pattern\":{\"fillmode\":\"overlay\",\"size\":10,\"solidity\":0.2}},\"type\":\"bar\"}],\"scattergeo\":[{\"type\":\"scattergeo\",\"marker\":{\"colorbar\":{\"outlinewidth\":0,\"ticks\":\"\"}}}],\"scatterpolar\":[{\"type\":\"scatterpolar\",\"marker\":{\"colorbar\":{\"outlinewidth\":0,\"ticks\":\"\"}}}],\"histogram\":[{\"marker\":{\"pattern\":{\"fillmode\":\"overlay\",\"size\":10,\"solidity\":0.2}},\"type\":\"histogram\"}],\"scattergl\":[{\"type\":\"scattergl\",\"marker\":{\"colorbar\":{\"outlinewidth\":0,\"ticks\":\"\"}}}],\"scatter3d\":[{\"type\":\"scatter3d\",\"line\":{\"colorbar\":{\"outlinewidth\":0,\"ticks\":\"\"}},\"marker\":{\"colorbar\":{\"outlinewidth\":0,\"ticks\":\"\"}}}],\"scattermapbox\":[{\"type\":\"scattermapbox\",\"marker\":{\"colorbar\":{\"outlinewidth\":0,\"ticks\":\"\"}}}],\"scatterternary\":[{\"type\":\"scatterternary\",\"marker\":{\"colorbar\":{\"outlinewidth\":0,\"ticks\":\"\"}}}],\"scattercarpet\":[{\"type\":\"scattercarpet\",\"marker\":{\"colorbar\":{\"outlinewidth\":0,\"ticks\":\"\"}}}],\"carpet\":[{\"aaxis\":{\"endlinecolor\":\"#2a3f5f\",\"gridcolor\":\"white\",\"linecolor\":\"white\",\"minorgridcolor\":\"white\",\"startlinecolor\":\"#2a3f5f\"},\"baxis\":{\"endlinecolor\":\"#2a3f5f\",\"gridcolor\":\"white\",\"linecolor\":\"white\",\"minorgridcolor\":\"white\",\"startlinecolor\":\"#2a3f5f\"},\"type\":\"carpet\"}],\"table\":[{\"cells\":{\"fill\":{\"color\":\"#EBF0F8\"},\"line\":{\"color\":\"white\"}},\"header\":{\"fill\":{\"color\":\"#C8D4E3\"},\"line\":{\"color\":\"white\"}},\"type\":\"table\"}],\"barpolar\":[{\"marker\":{\"line\":{\"color\":\"#E5ECF6\",\"width\":0.5},\"pattern\":{\"fillmode\":\"overlay\",\"size\":10,\"solidity\":0.2}},\"type\":\"barpolar\"}],\"pie\":[{\"automargin\":true,\"type\":\"pie\"}]},\"layout\":{\"autotypenumbers\":\"strict\",\"colorway\":[\"#636efa\",\"#EF553B\",\"#00cc96\",\"#ab63fa\",\"#FFA15A\",\"#19d3f3\",\"#FF6692\",\"#B6E880\",\"#FF97FF\",\"#FECB52\"],\"font\":{\"color\":\"#2a3f5f\"},\"hovermode\":\"closest\",\"hoverlabel\":{\"align\":\"left\"},\"paper_bgcolor\":\"white\",\"plot_bgcolor\":\"#E5ECF6\",\"polar\":{\"bgcolor\":\"#E5ECF6\",\"angularaxis\":{\"gridcolor\":\"white\",\"linecolor\":\"white\",\"ticks\":\"\"},\"radialaxis\":{\"gridcolor\":\"white\",\"linecolor\":\"white\",\"ticks\":\"\"}},\"ternary\":{\"bgcolor\":\"#E5ECF6\",\"aaxis\":{\"gridcolor\":\"white\",\"linecolor\":\"white\",\"ticks\":\"\"},\"baxis\":{\"gridcolor\":\"white\",\"linecolor\":\"white\",\"ticks\":\"\"},\"caxis\":{\"gridcolor\":\"white\",\"linecolor\":\"white\",\"ticks\":\"\"}},\"coloraxis\":{\"colorbar\":{\"outlinewidth\":0,\"ticks\":\"\"}},\"colorscale\":{\"sequential\":[[0.0,\"#0d0887\"],[0.1111111111111111,\"#46039f\"],[0.2222222222222222,\"#7201a8\"],[0.3333333333333333,\"#9c179e\"],[0.4444444444444444,\"#bd3786\"],[0.5555555555555556,\"#d8576b\"],[0.6666666666666666,\"#ed7953\"],[0.7777777777777778,\"#fb9f3a\"],[0.8888888888888888,\"#fdca26\"],[1.0,\"#f0f921\"]],\"sequentialminus\":[[0.0,\"#0d0887\"],[0.1111111111111111,\"#46039f\"],[0.2222222222222222,\"#7201a8\"],[0.3333333333333333,\"#9c179e\"],[0.4444444444444444,\"#bd3786\"],[0.5555555555555556,\"#d8576b\"],[0.6666666666666666,\"#ed7953\"],[0.7777777777777778,\"#fb9f3a\"],[0.8888888888888888,\"#fdca26\"],[1.0,\"#f0f921\"]],\"diverging\":[[0,\"#8e0152\"],[0.1,\"#c51b7d\"],[0.2,\"#de77ae\"],[0.3,\"#f1b6da\"],[0.4,\"#fde0ef\"],[0.5,\"#f7f7f7\"],[0.6,\"#e6f5d0\"],[0.7,\"#b8e186\"],[0.8,\"#7fbc41\"],[0.9,\"#4d9221\"],[1,\"#276419\"]]},\"xaxis\":{\"gridcolor\":\"white\",\"linecolor\":\"white\",\"ticks\":\"\",\"title\":{\"standoff\":15},\"zerolinecolor\":\"white\",\"automargin\":true,\"zerolinewidth\":2},\"yaxis\":{\"gridcolor\":\"white\",\"linecolor\":\"white\",\"ticks\":\"\",\"title\":{\"standoff\":15},\"zerolinecolor\":\"white\",\"automargin\":true,\"zerolinewidth\":2},\"scene\":{\"xaxis\":{\"backgroundcolor\":\"#E5ECF6\",\"gridcolor\":\"white\",\"linecolor\":\"white\",\"showbackground\":true,\"ticks\":\"\",\"zerolinecolor\":\"white\",\"gridwidth\":2},\"yaxis\":{\"backgroundcolor\":\"#E5ECF6\",\"gridcolor\":\"white\",\"linecolor\":\"white\",\"showbackground\":true,\"ticks\":\"\",\"zerolinecolor\":\"white\",\"gridwidth\":2},\"zaxis\":{\"backgroundcolor\":\"#E5ECF6\",\"gridcolor\":\"white\",\"linecolor\":\"white\",\"showbackground\":true,\"ticks\":\"\",\"zerolinecolor\":\"white\",\"gridwidth\":2}},\"shapedefaults\":{\"line\":{\"color\":\"#2a3f5f\"}},\"annotationdefaults\":{\"arrowcolor\":\"#2a3f5f\",\"arrowhead\":0,\"arrowwidth\":1},\"geo\":{\"bgcolor\":\"white\",\"landcolor\":\"#E5ECF6\",\"subunitcolor\":\"white\",\"showland\":true,\"showlakes\":true,\"lakecolor\":\"white\"},\"title\":{\"x\":0.05},\"mapbox\":{\"style\":\"light\"}}},\"xaxis\":{\"anchor\":\"y\",\"domain\":[0.0,1.0],\"title\":{\"text\":\"dt\"}},\"yaxis\":{\"anchor\":\"x\",\"domain\":[0.0,1.0],\"title\":{\"text\":\"value\"}},\"legend\":{\"title\":{\"text\":\"variable\"},\"tracegroupgap\":0},\"title\":{\"text\":\"Main Tem & Humidity vs Time in Sol\"}},                        {\"responsive\": true}                    ).then(function(){\n",
       "                            \n",
       "var gd = document.getElementById('a4676417-08fc-48ea-9e62-ffa91a63b601');\n",
       "var x = new MutationObserver(function (mutations, observer) {{\n",
       "        var display = window.getComputedStyle(gd).display;\n",
       "        if (!display || display === 'none') {{\n",
       "            console.log([gd, 'removed!']);\n",
       "            Plotly.purge(gd);\n",
       "            observer.disconnect();\n",
       "        }}\n",
       "}});\n",
       "\n",
       "// Listen for the removal of the full notebook cells\n",
       "var notebookContainer = gd.closest('#notebook-container');\n",
       "if (notebookContainer) {{\n",
       "    x.observe(notebookContainer, {childList: true});\n",
       "}}\n",
       "\n",
       "// Listen for the clearing of the current output cell\n",
       "var outputEl = gd.closest('.output');\n",
       "if (outputEl) {{\n",
       "    x.observe(outputEl, {childList: true});\n",
       "}}\n",
       "\n",
       "                        })                };                });            </script>        </div>"
      ]
     },
     "metadata": {},
     "output_type": "display_data"
    }
   ],
   "source": [
    "import plotly_express as px\n",
    "fig = px.line(df_etl, x='dt', y=['main_temp', 'Humedad'], title=f\"Main Tem & Humidity vs Time in {next(iter(set(df_etl.name)))}\")\n",
    "fig.show()\n",
    "fig.write_image(\"/home/jorge_torres/Alex/weather-site/public/humedadvstiempo.png\")"
   ]
  },
  {
   "cell_type": "code",
   "execution_count": 18,
   "id": "e1573db9-4839-4f58-af57-45388d951aa3",
   "metadata": {},
   "outputs": [
    {
     "data": {
      "image/png": "[encoded data removed]",
      "text/plain": [
       "<Figure size 640x480 with 1 Axes>"
      ]
     },
     "metadata": {},
     "output_type": "display_data"
    }
   ],
   "source": [
    "df_etl.main_temp.hist(bins=20)\n",
    "plt.title(f'Histogram of Main Temp in {next(iter(set(df_etl.name)))}')\n",
    "plt.grid()\n"
   ]
  },
  {
   "cell_type": "code",
   "execution_count": 19,
   "id": "e1318ff8-a4a8-4d79-b604-3225e9b2f504",
   "metadata": {},
   "outputs": [
    {
     "data": {
      "application/vnd.plotly.v1+json": {
       "config": {
        "plotlyServerURL": "https://plot.ly"
       },
       "data": [
        {
         "alignmentgroup": "True",
         "box": {
          "visible": false
         },
         "hovertemplate": "main_temp=%{x}<extra></extra>",
         "legendgroup": "",
         "marker": {
          "color": "#636efa"
         },
         "name": "",
         "offsetgroup": "",
         "orientation": "h",
         "scalegroup": "True",
         "showlegend": false,
         "type": "violin",
         "x": [
          25.45,
          25.45,
          25.45,
          25.45,
          25.41,
          25.41,
          25.41,
          25.41,
          25.41,
          25.41,
          25.41,
          25.41,
          25.41,
          25.41,
          25.41,
          25.41,
          25.41,
          25.41,
          25.41,
          25.41,
          25.41,
          25.41,
          25.41,
          25.41,
          25.41,
          25.22,
          25.22,
          25.22,
          25.22,
          25.22,
          25.22,
          25.22,
          25.22,
          25.22,
          25.22,
          24.68,
          24.68,
          24.68,
          24.68,
          24.68,
          24.46,
          24.35,
          24.15,
          24.02,
          24.02,
          23.53,
          23.66,
          29.95,
          30.44,
          30.44,
          30.44,
          30.44,
          30.35,
          30.35,
          30.35,
          30.35,
          30.35,
          30.35,
          30.35,
          30.35
         ],
         "x0": " ",
         "xaxis": "x",
         "y0": " ",
         "yaxis": "y"
        }
       ],
       "layout": {
        "legend": {
         "tracegroupgap": 0
        },
        "template": {
         "data": {
          "bar": [
           {
            "error_x": {
             "color": "#2a3f5f"
            },
            "error_y": {
             "color": "#2a3f5f"
            },
            "marker": {
             "line": {
              "color": "#E5ECF6",
              "width": 0.5
             },
             "pattern": {
              "fillmode": "overlay",
              "size": 10,
              "solidity": 0.2
             }
            },
            "type": "bar"
           }
          ],
          "barpolar": [
           {
            "marker": {
             "line": {
              "color": "#E5ECF6",
              "width": 0.5
             },
             "pattern": {
              "fillmode": "overlay",
              "size": 10,
              "solidity": 0.2
             }
            },
            "type": "barpolar"
           }
          ],
          "carpet": [
           {
            "aaxis": {
             "endlinecolor": "#2a3f5f",
             "gridcolor": "white",
             "linecolor": "white",
             "minorgridcolor": "white",
             "startlinecolor": "#2a3f5f"
            },
            "baxis": {
             "endlinecolor": "#2a3f5f",
             "gridcolor": "white",
             "linecolor": "white",
             "minorgridcolor": "white",
             "startlinecolor": "#2a3f5f"
            },
            "type": "carpet"
           }
          ],
          "choropleth": [
           {
            "colorbar": {
             "outlinewidth": 0,
             "ticks": ""
            },
            "type": "choropleth"
           }
          ],
          "contour": [
           {
            "colorbar": {
             "outlinewidth": 0,
             "ticks": ""
            },
            "colorscale": [
             [
              0,
              "#0d0887"
             ],
             [
              0.1111111111111111,
              "#46039f"
             ],
             [
              0.2222222222222222,
              "#7201a8"
             ],
             [
              0.3333333333333333,
              "#9c179e"
             ],
             [
              0.4444444444444444,
              "#bd3786"
             ],
             [
              0.5555555555555556,
              "#d8576b"
             ],
             [
              0.6666666666666666,
              "#ed7953"
             ],
             [
              0.7777777777777778,
              "#fb9f3a"
             ],
             [
              0.8888888888888888,
              "#fdca26"
             ],
             [
              1,
              "#f0f921"
             ]
            ],
            "type": "contour"
           }
          ],
          "contourcarpet": [
           {
            "colorbar": {
             "outlinewidth": 0,
             "ticks": ""
            },
            "type": "contourcarpet"
           }
          ],
          "heatmap": [
           {
            "colorbar": {
             "outlinewidth": 0,
             "ticks": ""
            },
            "colorscale": [
             [
              0,
              "#0d0887"
             ],
             [
              0.1111111111111111,
              "#46039f"
             ],
             [
              0.2222222222222222,
              "#7201a8"
             ],
             [
              0.3333333333333333,
              "#9c179e"
             ],
             [
              0.4444444444444444,
              "#bd3786"
             ],
             [
              0.5555555555555556,
              "#d8576b"
             ],
             [
              0.6666666666666666,
              "#ed7953"
             ],
             [
              0.7777777777777778,
              "#fb9f3a"
             ],
             [
              0.8888888888888888,
              "#fdca26"
             ],
             [
              1,
              "#f0f921"
             ]
            ],
            "type": "heatmap"
           }
          ],
          "heatmapgl": [
           {
            "colorbar": {
             "outlinewidth": 0,
             "ticks": ""
            },
            "colorscale": [
             [
              0,
              "#0d0887"
             ],
             [
              0.1111111111111111,
              "#46039f"
             ],
             [
              0.2222222222222222,
              "#7201a8"
             ],
             [
              0.3333333333333333,
              "#9c179e"
             ],
             [
              0.4444444444444444,
              "#bd3786"
             ],
             [
              0.5555555555555556,
              "#d8576b"
             ],
             [
              0.6666666666666666,
              "#ed7953"
             ],
             [
              0.7777777777777778,
              "#fb9f3a"
             ],
             [
              0.8888888888888888,
              "#fdca26"
             ],
             [
              1,
              "#f0f921"
             ]
            ],
            "type": "heatmapgl"
           }
          ],
          "histogram": [
           {
            "marker": {
             "pattern": {
              "fillmode": "overlay",
              "size": 10,
              "solidity": 0.2
             }
            },
            "type": "histogram"
           }
          ],
          "histogram2d": [
           {
            "colorbar": {
             "outlinewidth": 0,
             "ticks": ""
            },
            "colorscale": [
             [
              0,
              "#0d0887"
             ],
             [
              0.1111111111111111,
              "#46039f"
             ],
             [
              0.2222222222222222,
              "#7201a8"
             ],
             [
              0.3333333333333333,
              "#9c179e"
             ],
             [
              0.4444444444444444,
              "#bd3786"
             ],
             [
              0.5555555555555556,
              "#d8576b"
             ],
             [
              0.6666666666666666,
              "#ed7953"
             ],
             [
              0.7777777777777778,
              "#fb9f3a"
             ],
             [
              0.8888888888888888,
              "#fdca26"
             ],
             [
              1,
              "#f0f921"
             ]
            ],
            "type": "histogram2d"
           }
          ],
          "histogram2dcontour": [
           {
            "colorbar": {
             "outlinewidth": 0,
             "ticks": ""
            },
            "colorscale": [
             [
              0,
              "#0d0887"
             ],
             [
              0.1111111111111111,
              "#46039f"
             ],
             [
              0.2222222222222222,
              "#7201a8"
             ],
             [
              0.3333333333333333,
              "#9c179e"
             ],
             [
              0.4444444444444444,
              "#bd3786"
             ],
             [
              0.5555555555555556,
              "#d8576b"
             ],
             [
              0.6666666666666666,
              "#ed7953"
             ],
             [
              0.7777777777777778,
              "#fb9f3a"
             ],
             [
              0.8888888888888888,
              "#fdca26"
             ],
             [
              1,
              "#f0f921"
             ]
            ],
            "type": "histogram2dcontour"
           }
          ],
          "mesh3d": [
           {
            "colorbar": {
             "outlinewidth": 0,
             "ticks": ""
            },
            "type": "mesh3d"
           }
          ],
          "parcoords": [
           {
            "line": {
             "colorbar": {
              "outlinewidth": 0,
              "ticks": ""
             }
            },
            "type": "parcoords"
           }
          ],
          "pie": [
           {
            "automargin": true,
            "type": "pie"
           }
          ],
          "scatter": [
           {
            "fillpattern": {
             "fillmode": "overlay",
             "size": 10,
             "solidity": 0.2
            },
            "type": "scatter"
           }
          ],
          "scatter3d": [
           {
            "line": {
             "colorbar": {
              "outlinewidth": 0,
              "ticks": ""
             }
            },
            "marker": {
             "colorbar": {
              "outlinewidth": 0,
              "ticks": ""
             }
            },
            "type": "scatter3d"
           }
          ],
          "scattercarpet": [
           {
            "marker": {
             "colorbar": {
              "outlinewidth": 0,
              "ticks": ""
             }
            },
            "type": "scattercarpet"
           }
          ],
          "scattergeo": [
           {
            "marker": {
             "colorbar": {
              "outlinewidth": 0,
              "ticks": ""
             }
            },
            "type": "scattergeo"
           }
          ],
          "scattergl": [
           {
            "marker": {
             "colorbar": {
              "outlinewidth": 0,
              "ticks": ""
             }
            },
            "type": "scattergl"
           }
          ],
          "scattermapbox": [
           {
            "marker": {
             "colorbar": {
              "outlinewidth": 0,
              "ticks": ""
             }
            },
            "type": "scattermapbox"
           }
          ],
          "scatterpolar": [
           {
            "marker": {
             "colorbar": {
              "outlinewidth": 0,
              "ticks": ""
             }
            },
            "type": "scatterpolar"
           }
          ],
          "scatterpolargl": [
           {
            "marker": {
             "colorbar": {
              "outlinewidth": 0,
              "ticks": ""
             }
            },
            "type": "scatterpolargl"
           }
          ],
          "scatterternary": [
           {
            "marker": {
             "colorbar": {
              "outlinewidth": 0,
              "ticks": ""
             }
            },
            "type": "scatterternary"
           }
          ],
          "surface": [
           {
            "colorbar": {
             "outlinewidth": 0,
             "ticks": ""
            },
            "colorscale": [
             [
              0,
              "#0d0887"
             ],
             [
              0.1111111111111111,
              "#46039f"
             ],
             [
              0.2222222222222222,
              "#7201a8"
             ],
             [
              0.3333333333333333,
              "#9c179e"
             ],
             [
              0.4444444444444444,
              "#bd3786"
             ],
             [
              0.5555555555555556,
              "#d8576b"
             ],
             [
              0.6666666666666666,
              "#ed7953"
             ],
             [
              0.7777777777777778,
              "#fb9f3a"
             ],
             [
              0.8888888888888888,
              "#fdca26"
             ],
             [
              1,
              "#f0f921"
             ]
            ],
            "type": "surface"
           }
          ],
          "table": [
           {
            "cells": {
             "fill": {
              "color": "#EBF0F8"
             },
             "line": {
              "color": "white"
             }
            },
            "header": {
             "fill": {
              "color": "#C8D4E3"
             },
             "line": {
              "color": "white"
             }
            },
            "type": "table"
           }
          ]
         },
         "layout": {
          "annotationdefaults": {
           "arrowcolor": "#2a3f5f",
           "arrowhead": 0,
           "arrowwidth": 1
          },
          "autotypenumbers": "strict",
          "coloraxis": {
           "colorbar": {
            "outlinewidth": 0,
            "ticks": ""
           }
          },
          "colorscale": {
           "diverging": [
            [
             0,
             "#8e0152"
            ],
            [
             0.1,
             "#c51b7d"
            ],
            [
             0.2,
             "#de77ae"
            ],
            [
             0.3,
             "#f1b6da"
            ],
            [
             0.4,
             "#fde0ef"
            ],
            [
             0.5,
             "#f7f7f7"
            ],
            [
             0.6,
             "#e6f5d0"
            ],
            [
             0.7,
             "#b8e186"
            ],
            [
             0.8,
             "#7fbc41"
            ],
            [
             0.9,
             "#4d9221"
            ],
            [
             1,
             "#276419"
            ]
           ],
           "sequential": [
            [
             0,
             "#0d0887"
            ],
            [
             0.1111111111111111,
             "#46039f"
            ],
            [
             0.2222222222222222,
             "#7201a8"
            ],
            [
             0.3333333333333333,
             "#9c179e"
            ],
            [
             0.4444444444444444,
             "#bd3786"
            ],
            [
             0.5555555555555556,
             "#d8576b"
            ],
            [
             0.6666666666666666,
             "#ed7953"
            ],
            [
             0.7777777777777778,
             "#fb9f3a"
            ],
            [
             0.8888888888888888,
             "#fdca26"
            ],
            [
             1,
             "#f0f921"
            ]
           ],
           "sequentialminus": [
            [
             0,
             "#0d0887"
            ],
            [
             0.1111111111111111,
             "#46039f"
            ],
            [
             0.2222222222222222,
             "#7201a8"
            ],
            [
             0.3333333333333333,
             "#9c179e"
            ],
            [
             0.4444444444444444,
             "#bd3786"
            ],
            [
             0.5555555555555556,
             "#d8576b"
            ],
            [
             0.6666666666666666,
             "#ed7953"
            ],
            [
             0.7777777777777778,
             "#fb9f3a"
            ],
            [
             0.8888888888888888,
             "#fdca26"
            ],
            [
             1,
             "#f0f921"
            ]
           ]
          },
          "colorway": [
           "#636efa",
           "#EF553B",
           "#00cc96",
           "#ab63fa",
           "#FFA15A",
           "#19d3f3",
           "#FF6692",
           "#B6E880",
           "#FF97FF",
           "#FECB52"
          ],
          "font": {
           "color": "#2a3f5f"
          },
          "geo": {
           "bgcolor": "white",
           "lakecolor": "white",
           "landcolor": "#E5ECF6",
           "showlakes": true,
           "showland": true,
           "subunitcolor": "white"
          },
          "hoverlabel": {
           "align": "left"
          },
          "hovermode": "closest",
          "mapbox": {
           "style": "light"
          },
          "paper_bgcolor": "white",
          "plot_bgcolor": "#E5ECF6",
          "polar": {
           "angularaxis": {
            "gridcolor": "white",
            "linecolor": "white",
            "ticks": ""
           },
           "bgcolor": "#E5ECF6",
           "radialaxis": {
            "gridcolor": "white",
            "linecolor": "white",
            "ticks": ""
           }
          },
          "scene": {
           "xaxis": {
            "backgroundcolor": "#E5ECF6",
            "gridcolor": "white",
            "gridwidth": 2,
            "linecolor": "white",
            "showbackground": true,
            "ticks": "",
            "zerolinecolor": "white"
           },
           "yaxis": {
            "backgroundcolor": "#E5ECF6",
            "gridcolor": "white",
            "gridwidth": 2,
            "linecolor": "white",
            "showbackground": true,
            "ticks": "",
            "zerolinecolor": "white"
           },
           "zaxis": {
            "backgroundcolor": "#E5ECF6",
            "gridcolor": "white",
            "gridwidth": 2,
            "linecolor": "white",
            "showbackground": true,
            "ticks": "",
            "zerolinecolor": "white"
           }
          },
          "shapedefaults": {
           "line": {
            "color": "#2a3f5f"
           }
          },
          "ternary": {
           "aaxis": {
            "gridcolor": "white",
            "linecolor": "white",
            "ticks": ""
           },
           "baxis": {
            "gridcolor": "white",
            "linecolor": "white",
            "ticks": ""
           },
           "bgcolor": "#E5ECF6",
           "caxis": {
            "gridcolor": "white",
            "linecolor": "white",
            "ticks": ""
           }
          },
          "title": {
           "x": 0.05
          },
          "xaxis": {
           "automargin": true,
           "gridcolor": "white",
           "linecolor": "white",
           "ticks": "",
           "title": {
            "standoff": 15
           },
           "zerolinecolor": "white",
           "zerolinewidth": 2
          },
          "yaxis": {
           "automargin": true,
           "gridcolor": "white",
           "linecolor": "white",
           "ticks": "",
           "title": {
            "standoff": 15
           },
           "zerolinecolor": "white",
           "zerolinewidth": 2
          }
         }
        },
        "title": {
         "text": "Violin Plot Main Temp in Sol"
        },
        "violinmode": "group",
        "xaxis": {
         "anchor": "y",
         "domain": [
          0,
          1
         ],
         "title": {
          "text": "main_temp"
         }
        },
        "yaxis": {
         "anchor": "x",
         "domain": [
          0,
          1
         ]
        }
       }
      },
      "text/html": [
       "<div>                            <div id=\"2c562682-3c99-47ed-a77b-517c9e49eb62\" class=\"plotly-graph-div\" style=\"height:525px; width:100%;\"></div>            <script type=\"text/javascript\">                require([\"plotly\"], function(Plotly) {                    window.PLOTLYENV=window.PLOTLYENV || {};                                    if (document.getElementById(\"2c562682-3c99-47ed-a77b-517c9e49eb62\")) {                    Plotly.newPlot(                        \"2c562682-3c99-47ed-a77b-517c9e49eb62\",                        [{\"alignmentgroup\":\"True\",\"box\":{\"visible\":false},\"hovertemplate\":\"main_temp=%{x}\\u003cextra\\u003e\\u003c\\u002fextra\\u003e\",\"legendgroup\":\"\",\"marker\":{\"color\":\"#636efa\"},\"name\":\"\",\"offsetgroup\":\"\",\"orientation\":\"h\",\"scalegroup\":\"True\",\"showlegend\":false,\"x\":[25.45,25.45,25.45,25.45,25.41,25.41,25.41,25.41,25.41,25.41,25.41,25.41,25.41,25.41,25.41,25.41,25.41,25.41,25.41,25.41,25.41,25.41,25.41,25.41,25.41,25.22,25.22,25.22,25.22,25.22,25.22,25.22,25.22,25.22,25.22,24.68,24.68,24.68,24.68,24.68,24.46,24.35,24.15,24.02,24.02,23.53,23.66,29.95,30.44,30.44,30.44,30.44,30.35,30.35,30.35,30.35,30.35,30.35,30.35,30.35],\"x0\":\" \",\"xaxis\":\"x\",\"y0\":\" \",\"yaxis\":\"y\",\"type\":\"violin\"}],                        {\"template\":{\"data\":{\"histogram2dcontour\":[{\"type\":\"histogram2dcontour\",\"colorbar\":{\"outlinewidth\":0,\"ticks\":\"\"},\"colorscale\":[[0.0,\"#0d0887\"],[0.1111111111111111,\"#46039f\"],[0.2222222222222222,\"#7201a8\"],[0.3333333333333333,\"#9c179e\"],[0.4444444444444444,\"#bd3786\"],[0.5555555555555556,\"#d8576b\"],[0.6666666666666666,\"#ed7953\"],[0.7777777777777778,\"#fb9f3a\"],[0.8888888888888888,\"#fdca26\"],[1.0,\"#f0f921\"]]}],\"choropleth\":[{\"type\":\"choropleth\",\"colorbar\":{\"outlinewidth\":0,\"ticks\":\"\"}}],\"histogram2d\":[{\"type\":\"histogram2d\",\"colorbar\":{\"outlinewidth\":0,\"ticks\":\"\"},\"colorscale\":[[0.0,\"#0d0887\"],[0.1111111111111111,\"#46039f\"],[0.2222222222222222,\"#7201a8\"],[0.3333333333333333,\"#9c179e\"],[0.4444444444444444,\"#bd3786\"],[0.5555555555555556,\"#d8576b\"],[0.6666666666666666,\"#ed7953\"],[0.7777777777777778,\"#fb9f3a\"],[0.8888888888888888,\"#fdca26\"],[1.0,\"#f0f921\"]]}],\"heatmap\":[{\"type\":\"heatmap\",\"colorbar\":{\"outlinewidth\":0,\"ticks\":\"\"},\"colorscale\":[[0.0,\"#0d0887\"],[0.1111111111111111,\"#46039f\"],[0.2222222222222222,\"#7201a8\"],[0.3333333333333333,\"#9c179e\"],[0.4444444444444444,\"#bd3786\"],[0.5555555555555556,\"#d8576b\"],[0.6666666666666666,\"#ed7953\"],[0.7777777777777778,\"#fb9f3a\"],[0.8888888888888888,\"#fdca26\"],[1.0,\"#f0f921\"]]}],\"heatmapgl\":[{\"type\":\"heatmapgl\",\"colorbar\":{\"outlinewidth\":0,\"ticks\":\"\"},\"colorscale\":[[0.0,\"#0d0887\"],[0.1111111111111111,\"#46039f\"],[0.2222222222222222,\"#7201a8\"],[0.3333333333333333,\"#9c179e\"],[0.4444444444444444,\"#bd3786\"],[0.5555555555555556,\"#d8576b\"],[0.6666666666666666,\"#ed7953\"],[0.7777777777777778,\"#fb9f3a\"],[0.8888888888888888,\"#fdca26\"],[1.0,\"#f0f921\"]]}],\"contourcarpet\":[{\"type\":\"contourcarpet\",\"colorbar\":{\"outlinewidth\":0,\"ticks\":\"\"}}],\"contour\":[{\"type\":\"contour\",\"colorbar\":{\"outlinewidth\":0,\"ticks\":\"\"},\"colorscale\":[[0.0,\"#0d0887\"],[0.1111111111111111,\"#46039f\"],[0.2222222222222222,\"#7201a8\"],[0.3333333333333333,\"#9c179e\"],[0.4444444444444444,\"#bd3786\"],[0.5555555555555556,\"#d8576b\"],[0.6666666666666666,\"#ed7953\"],[0.7777777777777778,\"#fb9f3a\"],[0.8888888888888888,\"#fdca26\"],[1.0,\"#f0f921\"]]}],\"surface\":[{\"type\":\"surface\",\"colorbar\":{\"outlinewidth\":0,\"ticks\":\"\"},\"colorscale\":[[0.0,\"#0d0887\"],[0.1111111111111111,\"#46039f\"],[0.2222222222222222,\"#7201a8\"],[0.3333333333333333,\"#9c179e\"],[0.4444444444444444,\"#bd3786\"],[0.5555555555555556,\"#d8576b\"],[0.6666666666666666,\"#ed7953\"],[0.7777777777777778,\"#fb9f3a\"],[0.8888888888888888,\"#fdca26\"],[1.0,\"#f0f921\"]]}],\"mesh3d\":[{\"type\":\"mesh3d\",\"colorbar\":{\"outlinewidth\":0,\"ticks\":\"\"}}],\"scatter\":[{\"fillpattern\":{\"fillmode\":\"overlay\",\"size\":10,\"solidity\":0.2},\"type\":\"scatter\"}],\"parcoords\":[{\"type\":\"parcoords\",\"line\":{\"colorbar\":{\"outlinewidth\":0,\"ticks\":\"\"}}}],\"scatterpolargl\":[{\"type\":\"scatterpolargl\",\"marker\":{\"colorbar\":{\"outlinewidth\":0,\"ticks\":\"\"}}}],\"bar\":[{\"error_x\":{\"color\":\"#2a3f5f\"},\"error_y\":{\"color\":\"#2a3f5f\"},\"marker\":{\"line\":{\"color\":\"#E5ECF6\",\"width\":0.5},\"pattern\":{\"fillmode\":\"overlay\",\"size\":10,\"solidity\":0.2}},\"type\":\"bar\"}],\"scattergeo\":[{\"type\":\"scattergeo\",\"marker\":{\"colorbar\":{\"outlinewidth\":0,\"ticks\":\"\"}}}],\"scatterpolar\":[{\"type\":\"scatterpolar\",\"marker\":{\"colorbar\":{\"outlinewidth\":0,\"ticks\":\"\"}}}],\"histogram\":[{\"marker\":{\"pattern\":{\"fillmode\":\"overlay\",\"size\":10,\"solidity\":0.2}},\"type\":\"histogram\"}],\"scattergl\":[{\"type\":\"scattergl\",\"marker\":{\"colorbar\":{\"outlinewidth\":0,\"ticks\":\"\"}}}],\"scatter3d\":[{\"type\":\"scatter3d\",\"line\":{\"colorbar\":{\"outlinewidth\":0,\"ticks\":\"\"}},\"marker\":{\"colorbar\":{\"outlinewidth\":0,\"ticks\":\"\"}}}],\"scattermapbox\":[{\"type\":\"scattermapbox\",\"marker\":{\"colorbar\":{\"outlinewidth\":0,\"ticks\":\"\"}}}],\"scatterternary\":[{\"type\":\"scatterternary\",\"marker\":{\"colorbar\":{\"outlinewidth\":0,\"ticks\":\"\"}}}],\"scattercarpet\":[{\"type\":\"scattercarpet\",\"marker\":{\"colorbar\":{\"outlinewidth\":0,\"ticks\":\"\"}}}],\"carpet\":[{\"aaxis\":{\"endlinecolor\":\"#2a3f5f\",\"gridcolor\":\"white\",\"linecolor\":\"white\",\"minorgridcolor\":\"white\",\"startlinecolor\":\"#2a3f5f\"},\"baxis\":{\"endlinecolor\":\"#2a3f5f\",\"gridcolor\":\"white\",\"linecolor\":\"white\",\"minorgridcolor\":\"white\",\"startlinecolor\":\"#2a3f5f\"},\"type\":\"carpet\"}],\"table\":[{\"cells\":{\"fill\":{\"color\":\"#EBF0F8\"},\"line\":{\"color\":\"white\"}},\"header\":{\"fill\":{\"color\":\"#C8D4E3\"},\"line\":{\"color\":\"white\"}},\"type\":\"table\"}],\"barpolar\":[{\"marker\":{\"line\":{\"color\":\"#E5ECF6\",\"width\":0.5},\"pattern\":{\"fillmode\":\"overlay\",\"size\":10,\"solidity\":0.2}},\"type\":\"barpolar\"}],\"pie\":[{\"automargin\":true,\"type\":\"pie\"}]},\"layout\":{\"autotypenumbers\":\"strict\",\"colorway\":[\"#636efa\",\"#EF553B\",\"#00cc96\",\"#ab63fa\",\"#FFA15A\",\"#19d3f3\",\"#FF6692\",\"#B6E880\",\"#FF97FF\",\"#FECB52\"],\"font\":{\"color\":\"#2a3f5f\"},\"hovermode\":\"closest\",\"hoverlabel\":{\"align\":\"left\"},\"paper_bgcolor\":\"white\",\"plot_bgcolor\":\"#E5ECF6\",\"polar\":{\"bgcolor\":\"#E5ECF6\",\"angularaxis\":{\"gridcolor\":\"white\",\"linecolor\":\"white\",\"ticks\":\"\"},\"radialaxis\":{\"gridcolor\":\"white\",\"linecolor\":\"white\",\"ticks\":\"\"}},\"ternary\":{\"bgcolor\":\"#E5ECF6\",\"aaxis\":{\"gridcolor\":\"white\",\"linecolor\":\"white\",\"ticks\":\"\"},\"baxis\":{\"gridcolor\":\"white\",\"linecolor\":\"white\",\"ticks\":\"\"},\"caxis\":{\"gridcolor\":\"white\",\"linecolor\":\"white\",\"ticks\":\"\"}},\"coloraxis\":{\"colorbar\":{\"outlinewidth\":0,\"ticks\":\"\"}},\"colorscale\":{\"sequential\":[[0.0,\"#0d0887\"],[0.1111111111111111,\"#46039f\"],[0.2222222222222222,\"#7201a8\"],[0.3333333333333333,\"#9c179e\"],[0.4444444444444444,\"#bd3786\"],[0.5555555555555556,\"#d8576b\"],[0.6666666666666666,\"#ed7953\"],[0.7777777777777778,\"#fb9f3a\"],[0.8888888888888888,\"#fdca26\"],[1.0,\"#f0f921\"]],\"sequentialminus\":[[0.0,\"#0d0887\"],[0.1111111111111111,\"#46039f\"],[0.2222222222222222,\"#7201a8\"],[0.3333333333333333,\"#9c179e\"],[0.4444444444444444,\"#bd3786\"],[0.5555555555555556,\"#d8576b\"],[0.6666666666666666,\"#ed7953\"],[0.7777777777777778,\"#fb9f3a\"],[0.8888888888888888,\"#fdca26\"],[1.0,\"#f0f921\"]],\"diverging\":[[0,\"#8e0152\"],[0.1,\"#c51b7d\"],[0.2,\"#de77ae\"],[0.3,\"#f1b6da\"],[0.4,\"#fde0ef\"],[0.5,\"#f7f7f7\"],[0.6,\"#e6f5d0\"],[0.7,\"#b8e186\"],[0.8,\"#7fbc41\"],[0.9,\"#4d9221\"],[1,\"#276419\"]]},\"xaxis\":{\"gridcolor\":\"white\",\"linecolor\":\"white\",\"ticks\":\"\",\"title\":{\"standoff\":15},\"zerolinecolor\":\"white\",\"automargin\":true,\"zerolinewidth\":2},\"yaxis\":{\"gridcolor\":\"white\",\"linecolor\":\"white\",\"ticks\":\"\",\"title\":{\"standoff\":15},\"zerolinecolor\":\"white\",\"automargin\":true,\"zerolinewidth\":2},\"scene\":{\"xaxis\":{\"backgroundcolor\":\"#E5ECF6\",\"gridcolor\":\"white\",\"linecolor\":\"white\",\"showbackground\":true,\"ticks\":\"\",\"zerolinecolor\":\"white\",\"gridwidth\":2},\"yaxis\":{\"backgroundcolor\":\"#E5ECF6\",\"gridcolor\":\"white\",\"linecolor\":\"white\",\"showbackground\":true,\"ticks\":\"\",\"zerolinecolor\":\"white\",\"gridwidth\":2},\"zaxis\":{\"backgroundcolor\":\"#E5ECF6\",\"gridcolor\":\"white\",\"linecolor\":\"white\",\"showbackground\":true,\"ticks\":\"\",\"zerolinecolor\":\"white\",\"gridwidth\":2}},\"shapedefaults\":{\"line\":{\"color\":\"#2a3f5f\"}},\"annotationdefaults\":{\"arrowcolor\":\"#2a3f5f\",\"arrowhead\":0,\"arrowwidth\":1},\"geo\":{\"bgcolor\":\"white\",\"landcolor\":\"#E5ECF6\",\"subunitcolor\":\"white\",\"showland\":true,\"showlakes\":true,\"lakecolor\":\"white\"},\"title\":{\"x\":0.05},\"mapbox\":{\"style\":\"light\"}}},\"xaxis\":{\"anchor\":\"y\",\"domain\":[0.0,1.0],\"title\":{\"text\":\"main_temp\"}},\"yaxis\":{\"anchor\":\"x\",\"domain\":[0.0,1.0]},\"legend\":{\"tracegroupgap\":0},\"title\":{\"text\":\"Violin Plot Main Temp in Sol\"},\"violinmode\":\"group\"},                        {\"responsive\": true}                    ).then(function(){\n",
       "                            \n",
       "var gd = document.getElementById('2c562682-3c99-47ed-a77b-517c9e49eb62');\n",
       "var x = new MutationObserver(function (mutations, observer) {{\n",
       "        var display = window.getComputedStyle(gd).display;\n",
       "        if (!display || display === 'none') {{\n",
       "            console.log([gd, 'removed!']);\n",
       "            Plotly.purge(gd);\n",
       "            observer.disconnect();\n",
       "        }}\n",
       "}});\n",
       "\n",
       "// Listen for the removal of the full notebook cells\n",
       "var notebookContainer = gd.closest('#notebook-container');\n",
       "if (notebookContainer) {{\n",
       "    x.observe(notebookContainer, {childList: true});\n",
       "}}\n",
       "\n",
       "// Listen for the clearing of the current output cell\n",
       "var outputEl = gd.closest('.output');\n",
       "if (outputEl) {{\n",
       "    x.observe(outputEl, {childList: true});\n",
       "}}\n",
       "\n",
       "                        })                };                });            </script>        </div>"
      ]
     },
     "metadata": {},
     "output_type": "display_data"
    }
   ],
   "source": [
    "fig = px.violin(df_etl, 'main_temp', title=f\"Violin Plot Main Temp in {next(iter(set(df_etl.name)))}\")\n",
    "fig.show()"
   ]
  },
  {
   "cell_type": "code",
   "execution_count": 20,
   "id": "5f37f291-6739-48c2-b296-0be6df428a49",
   "metadata": {},
   "outputs": [
    {
     "data": {
      "image/png": "[encoded data removed]",
      "text/plain": [
       "<Figure size 800x600 with 1 Axes>"
      ]
     },
     "metadata": {},
     "output_type": "display_data"
    }
   ],
   "source": [
    "fig = plt.figure(figsize=(8,6))\n",
    "plt.plot(df_etl['dt'], df_etl['main_temp'])\n",
    "plt.grid()\n",
    "plt.title(f'Main Temp vs Time in {next(iter(set(df_etl.name)))}')\n",
    "fig.tight_layout()\n",
    "fname = '/home/jorge_torres/Alex/weather-site/content/images/temperature.png'\n",
    "plt.savefig(fname)"
   ]
  },
  {
   "cell_type": "code",
   "execution_count": 22,
   "id": "1b688d9a-15ec-464f-af1e-6cafbf7bc85e",
   "metadata": {},
   "outputs": [
    {
     "data": {
      "text/plain": [
       "<Axes: xlabel='day', ylabel='tip'>"
      ]
     },
     "execution_count": 22,
     "metadata": {},
     "output_type": "execute_result"
    },
    {
     "data": {
      "image/png": "[encoded data removed]",
      "text/plain": [
       "<Figure size 500x500 with 1 Axes>"
      ]
     },
     "metadata": {},
     "output_type": "display_data"
    }
   ],
   "source": [
    "#+begin_src python :results graphics file output :file boxplot.svg\n",
    "import matplotlib.pyplot as plt\n",
    "import seaborn as sns\n",
    "plt.figure(figsize=(5, 5))\n",
    "tips = sns.load_dataset(\"tips\")\n",
    "sns.boxplot(x=\"day\", y=\"tip\", data=tips)\n",
    "#+end_src"
   ]
  },
  {
   "cell_type": "code",
   "execution_count": null,
   "id": "5ad0a051-6ea5-4f7b-ac84-13cb1b00ab20",
   "metadata": {},
   "outputs": [],
   "source": []
  },
  {
   "cell_type": "code",
   "execution_count": null,
   "id": "7abb4fad-6b7c-4b1c-9660-e92402c85df7",
   "metadata": {},
   "outputs": [],
   "source": []
  }
 ],
 "metadata": {
  "kernelspec": {
   "display_name": "Python 3 (ipykernel)",
   "language": "python",
   "name": "python3"
  },
  "language_info": {
   "codemirror_mode": {
    "name": "ipython",
    "version": 3
   },
   "file_extension": ".py",
   "mimetype": "text/x-python",
   "name": "python",
   "nbconvert_exporter": "python",
   "pygments_lexer": "ipython3",
   "version": "3.11.9"
  }
 },
 "nbformat": 4,
 "nbformat_minor": 5
}
